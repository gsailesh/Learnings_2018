{
 "cells": [
  {
   "cell_type": "code",
   "execution_count": 1,
   "metadata": {},
   "outputs": [],
   "source": [
    "import numpy as np\n",
    "\n",
    "a = np.array([[1,2,3,4],[5,6,7,8]])\n",
    "b = np.array([[1,2,3,4],[5,6,7,8],[11,22,33,44]])\n"
   ]
  },
  {
   "cell_type": "code",
   "execution_count": 2,
   "metadata": {},
   "outputs": [
    {
     "name": "stdout",
     "output_type": "stream",
     "text": [
      "zeros\n",
      "[[0. 0.]\n",
      " [0. 0.]]\n",
      "ones\n",
      "[[1. 1.]\n",
      " [1. 1.]]\n",
      "identity\n",
      "[[1. 0.]\n",
      " [0. 1.]]\n",
      "dense array\n",
      "[[7 7 7]\n",
      " [7 7 7]]\n"
     ]
    }
   ],
   "source": [
    "num_zero = np.zeros((2,2))\n",
    "num_ones = np.ones((2,2))\n",
    "num_eye = np.eye(2)\n",
    "num_full = np.full((2,3),7)\n",
    "\n",
    "print \"zeros\"\n",
    "print num_zero\n",
    "print \"ones\"\n",
    "print num_ones\n",
    "print \"identity\"\n",
    "print num_eye\n",
    "print \"dense array\"\n",
    "print num_full"
   ]
  },
  {
   "cell_type": "code",
   "execution_count": 3,
   "metadata": {},
   "outputs": [
    {
     "name": "stdout",
     "output_type": "stream",
     "text": [
      "[[1 2 3 4]\n",
      " [5 6 7 8]]\n",
      "Shape, Size, ndim, itemsize and dtype.name\n",
      "(2, 4)\n",
      "8\n",
      "2\n",
      "int64\n",
      "8\n"
     ]
    }
   ],
   "source": [
    "print a\n",
    "\n",
    "print \"\"\"Shape, Size, ndim, itemsize and dtype.name\"\"\"\n",
    "print a.shape\n",
    "print a.size\n",
    "print a.ndim\n",
    "print a.dtype.name\n",
    "print a.itemsize"
   ]
  },
  {
   "cell_type": "code",
   "execution_count": 4,
   "metadata": {},
   "outputs": [
    {
     "name": "stdout",
     "output_type": "stream",
     "text": [
      "[[ 1  2  3  4]\n",
      " [ 5  6  7  8]\n",
      " [11 22 33 44]]\n",
      "Shape, Size, ndim, itemsize and dtype.name\n",
      "(3, 4)\n",
      "12\n",
      "2\n",
      "int64\n",
      "8\n"
     ]
    }
   ],
   "source": [
    "print b\n",
    "\n",
    "print \"\"\"Shape, Size, ndim, itemsize and dtype.name\"\"\"\n",
    "print b.shape\n",
    "print b.size\n",
    "print b.ndim\n",
    "print b.dtype.name\n",
    "print b.itemsize"
   ]
  },
  {
   "cell_type": "code",
   "execution_count": 5,
   "metadata": {},
   "outputs": [
    {
     "name": "stdout",
     "output_type": "stream",
     "text": [
      "Random array\n",
      "[[0.43024604 0.15245753 0.35833696 0.1471723  0.29022964]\n",
      " [0.82986013 0.75637921 0.52636961 0.10669276 0.85422419]]\n",
      "(2, 5)\n"
     ]
    }
   ],
   "source": [
    "num_random = np.random.random((2,5))\n",
    "print \"Random array\"\n",
    "print num_random\n",
    "print num_random.shape"
   ]
  },
  {
   "cell_type": "code",
   "execution_count": 6,
   "metadata": {},
   "outputs": [
    {
     "name": "stdout",
     "output_type": "stream",
     "text": [
      "[[0.43024604 0.15245753]\n",
      " [0.35833696 0.1471723 ]\n",
      " [0.29022964 0.82986013]\n",
      " [0.75637921 0.52636961]\n",
      " [0.10669276 0.85422419]]\n"
     ]
    }
   ],
   "source": [
    "print num_random.reshape((5,2))"
   ]
  },
  {
   "cell_type": "code",
   "execution_count": 7,
   "metadata": {},
   "outputs": [
    {
     "name": "stdout",
     "output_type": "stream",
     "text": [
      "[0.43024604 0.15245753 0.35833696 0.1471723  0.29022964 0.82986013\n",
      " 0.75637921 0.52636961 0.10669276 0.85422419]\n"
     ]
    }
   ],
   "source": [
    "print num_random.flatten()"
   ]
  },
  {
   "cell_type": "code",
   "execution_count": 8,
   "metadata": {},
   "outputs": [
    {
     "name": "stdout",
     "output_type": "stream",
     "text": [
      "[[0.43024604 0.15245753]\n",
      " [0.35833696 0.1471723 ]\n",
      " [0.29022964 0.82986013]\n",
      " [0.75637921 0.52636961]\n",
      " [0.10669276 0.85422419]\n",
      " [0.43024604 0.15245753]\n",
      " [0.35833696 0.1471723 ]]\n"
     ]
    }
   ],
   "source": [
    "# print np.resize(num_random.flatten(),(6,2))\n",
    "print np.resize(num_random,(7,2))"
   ]
  },
  {
   "cell_type": "code",
   "execution_count": 9,
   "metadata": {},
   "outputs": [
    {
     "name": "stdout",
     "output_type": "stream",
     "text": [
      "[[0.43024604 0.82986013]\n",
      " [0.15245753 0.75637921]\n",
      " [0.35833696 0.52636961]\n",
      " [0.1471723  0.10669276]\n",
      " [0.29022964 0.85422419]]\n",
      "(5, 2)\n"
     ]
    }
   ],
   "source": [
    "print num_random.transpose()\n",
    "print num_random.transpose().shape"
   ]
  },
  {
   "cell_type": "code",
   "execution_count": 10,
   "metadata": {},
   "outputs": [
    {
     "name": "stdout",
     "output_type": "stream",
     "text": [
      "[[0.43024604 0.15245753 0.35833696 0.1471723  0.29022964 0.82986013\n",
      "  0.75637921 0.52636961 0.10669276 0.85422419]\n",
      " [0.43024604 0.15245753 0.35833696 0.1471723  0.29022964 0.82986013\n",
      "  0.75637921 0.52636961 0.10669276 0.85422419]\n",
      " [0.43024604 0.15245753 0.35833696 0.1471723  0.29022964 0.82986013\n",
      "  0.75637921 0.52636961 0.10669276 0.85422419]]\n",
      "(3, 10)\n"
     ]
    }
   ],
   "source": [
    "\"\"\"\n",
    "Broadcast a flattened ndarray - make copies of the array\n",
    "Ensure column size matches the flattened length(ndarray size)\n",
    "i.e., for a random ndarray of shape: 2x5,\n",
    "the column size should be 10 (as 2x5 has 10 elements when flattened)\n",
    "\"\"\"\n",
    "broadcast_array = np.broadcast_to(num_random.flatten(),(3,10)) # (3,10) -> makes 3 copies of the flattened array and encloses it\n",
    "print broadcast_array\n",
    "print broadcast_array.shape"
   ]
  },
  {
   "cell_type": "code",
   "execution_count": 11,
   "metadata": {},
   "outputs": [
    {
     "name": "stdout",
     "output_type": "stream",
     "text": [
      "num_random.shape:  (2, 5)\n",
      "[[[0.43024604 0.15245753 0.35833696 0.1471723  0.29022964]\n",
      "  [0.82986013 0.75637921 0.52636961 0.10669276 0.85422419]]]\n",
      "(1, 2, 5)\n",
      "[[[0.43024604 0.15245753 0.35833696 0.1471723  0.29022964]]\n",
      "\n",
      " [[0.82986013 0.75637921 0.52636961 0.10669276 0.85422419]]]\n",
      "(2, 1, 5)\n",
      "broadcast_array.shape:  (3, 10)\n",
      "[[[0.43024604 0.15245753 0.35833696 0.1471723  0.29022964 0.82986013\n",
      "   0.75637921 0.52636961 0.10669276 0.85422419]\n",
      "  [0.43024604 0.15245753 0.35833696 0.1471723  0.29022964 0.82986013\n",
      "   0.75637921 0.52636961 0.10669276 0.85422419]\n",
      "  [0.43024604 0.15245753 0.35833696 0.1471723  0.29022964 0.82986013\n",
      "   0.75637921 0.52636961 0.10669276 0.85422419]]]\n",
      "(1, 3, 10)\n",
      "[[[0.43024604 0.15245753 0.35833696 0.1471723  0.29022964 0.82986013\n",
      "   0.75637921 0.52636961 0.10669276 0.85422419]]\n",
      "\n",
      " [[0.43024604 0.15245753 0.35833696 0.1471723  0.29022964 0.82986013\n",
      "   0.75637921 0.52636961 0.10669276 0.85422419]]\n",
      "\n",
      " [[0.43024604 0.15245753 0.35833696 0.1471723  0.29022964 0.82986013\n",
      "   0.75637921 0.52636961 0.10669276 0.85422419]]]\n",
      "(3, 1, 10)\n"
     ]
    }
   ],
   "source": [
    "\"\"\"\n",
    "Expand & Squeeze:\n",
    "\n",
    "Expand an ndarray using expand_dims; it can be done row-wise or column-wise.\n",
    "\n",
    "Expanding a 2D array via axis=0 (row-wise) places the entire 2D array in an outer-row.\n",
    "i.e., if a 2x5 array is expanded via axis 0, its new dim becomes 1x2x5\n",
    "\n",
    "Similarly, along axis 1 places each row of the 2D array inside a separate row.\n",
    "i.e., if 2x5 array is expanded via axis 1, its new dim becomes 2x1x5\n",
    "\n",
    "In other words, axis=0 (row-wise) places all rows of the original array inside a row.\n",
    "axis=1 (col-wise) places all columns of each row from the original array inside a row.\n",
    "\"\"\"\n",
    "\n",
    "print \"num_random.shape: \", num_random.shape\n",
    "print np.expand_dims(num_random,axis=0)\n",
    "print np.expand_dims(num_random,axis=0).shape\n",
    "\n",
    "print np.expand_dims(num_random,axis=1)\n",
    "print np.expand_dims(num_random,axis=1).shape\n",
    "\n",
    "print \"broadcast_array.shape: \", broadcast_array.shape\n",
    "print np.expand_dims(broadcast_array,axis=0)\n",
    "print np.expand_dims(broadcast_array,axis=0).shape\n",
    "\n",
    "print np.expand_dims(broadcast_array,axis=1)\n",
    "print np.expand_dims(broadcast_array,axis=1).shape"
   ]
  },
  {
   "cell_type": "code",
   "execution_count": 12,
   "metadata": {},
   "outputs": [
    {
     "name": "stdout",
     "output_type": "stream",
     "text": [
      "before:  (1, 2, 5)\n",
      "after:  (2, 5)\n",
      "before:  (2, 1, 5)\n",
      "after:  (2, 5)\n"
     ]
    }
   ],
   "source": [
    "\"\"\"\n",
    "Expand & Squeeze:\n",
    "\n",
    "Squeeze: Rolls back the dimensions of a previously expanded array.\n",
    "\"\"\"\n",
    "\n",
    "axis_0_expanded_array = np.expand_dims(num_random,axis=0)\n",
    "axis_1_expanded_array = np.expand_dims(num_random,axis=1)\n",
    "\n",
    "print \"before: \", axis_0_expanded_array.shape\n",
    "print \"after: \", np.squeeze(axis_0_expanded_array).shape\n",
    "\n",
    "print \"before: \", axis_1_expanded_array.shape\n",
    "print \"after: \", np.squeeze(axis_1_expanded_array).shape"
   ]
  },
  {
   "cell_type": "code",
   "execution_count": 13,
   "metadata": {},
   "outputs": [
    {
     "name": "stdout",
     "output_type": "stream",
     "text": [
      "num_random.shape:  (2, 5)\n",
      "[[0.43024604 0.15245753 0.35833696 0.1471723  0.29022964]\n",
      " [0.82986013 0.75637921 0.52636961 0.10669276 0.85422419]\n",
      " [0.43024604 0.15245753 0.35833696 0.1471723  0.29022964]\n",
      " [0.82986013 0.75637921 0.52636961 0.10669276 0.85422419]]\n",
      "concatenated dim:  (4, 5)\n",
      "[[0.43024604 0.15245753 0.35833696 0.1471723  0.29022964 0.43024604\n",
      "  0.15245753 0.35833696 0.1471723  0.29022964]\n",
      " [0.82986013 0.75637921 0.52636961 0.10669276 0.85422419 0.82986013\n",
      "  0.75637921 0.52636961 0.10669276 0.85422419]]\n",
      "concatenated dim:  (2, 10)\n"
     ]
    }
   ],
   "source": [
    "\"\"\"\n",
    "Concatenate & Stack\n",
    "\n",
    "Concatenate: \n",
    "Row-wise would pile the arrays along the rows\n",
    "Col-wise would arrange the arrays along the columns\n",
    "\n",
    "Ensure that the dimension of the concatenated arrays must match except for the axis along which they're concatenated.\n",
    "i.e., 2x5 and 3x5 arrays can be concatenated along axis 0 (row), but not with 3x3\n",
    "In the above example, the row dimensions need not match (2 rows and 3 rows respectively). Similarly for axis=1 (col-wise).\n",
    "\n",
    "Note: Scalar addition of numpy arrays adds scalar to each element\n",
    "\"\"\"\n",
    "print \"num_random.shape: \", num_random.shape\n",
    "print np.concatenate((num_random, num_random), axis=0)\n",
    "print \"concatenated dim: \", np.concatenate((num_random, num_random), axis=0).shape\n",
    "print np.concatenate((num_random, num_random), axis=1)\n",
    "print \"concatenated dim: \", np.concatenate((num_random, num_random), axis=1).shape\n"
   ]
  },
  {
   "cell_type": "code",
   "execution_count": 19,
   "metadata": {},
   "outputs": [
    {
     "name": "stdout",
     "output_type": "stream",
     "text": [
      "[[0.00411527 0.4141311  0.41154378 0.6776047  0.21344928]\n",
      " [0.18410272 0.87850643 0.6860854  0.82662243 0.71196314]]\n",
      "new_num_random:  (2, 5)\n",
      "[[0.43024604 0.15245753 0.35833696 0.1471723  0.29022964]\n",
      " [0.82986013 0.75637921 0.52636961 0.10669276 0.85422419]]\n",
      "num_random:  (2, 5)\n",
      "[[[0.43024604 0.15245753 0.35833696 0.1471723  0.29022964]\n",
      "  [0.82986013 0.75637921 0.52636961 0.10669276 0.85422419]]\n",
      "\n",
      " [[0.00411527 0.4141311  0.41154378 0.6776047  0.21344928]\n",
      "  [0.18410272 0.87850643 0.6860854  0.82662243 0.71196314]]]\n",
      "num_random row stacked:  (2, 2, 5)\n",
      "[[[0.43024604 0.15245753 0.35833696 0.1471723  0.29022964]\n",
      "  [0.00411527 0.4141311  0.41154378 0.6776047  0.21344928]]\n",
      "\n",
      " [[0.82986013 0.75637921 0.52636961 0.10669276 0.85422419]\n",
      "  [0.18410272 0.87850643 0.6860854  0.82662243 0.71196314]]]\n",
      "num_random col stacked:  (2, 2, 5)\n"
     ]
    }
   ],
   "source": [
    "\"\"\"\n",
    "Stacking:\n",
    "\n",
    "Ensure that the stacked arrays are of the same shape.\n",
    "\n",
    "Here, row-wise stacking (axis=0), stacks all columns in each row of the arrays.\n",
    "For example, \n",
    "M = [[m11 m12][m21 m22]] is row stacked with N = [[n11 n12][n21 n22]]\n",
    "\n",
    "Result is:\n",
    "\n",
    "[\n",
    "    [\n",
    "        [m11 m12] # row1 of M\n",
    "        [m21 m22] # row2 of M\n",
    "    ]\n",
    "    [\n",
    "        [n11 n12] # row1 of N\n",
    "        [n21 n22] # row2 of N\n",
    "    ]\n",
    "]\n",
    "\n",
    "\n",
    "Similarly col-wise stacking (axis=1), stacks all the rows in each column for the arrays involved.\n",
    "For example,\n",
    "\n",
    "M = [[m11 m12][m21 m22]] is row stacked with N = [[n11 n12][n21 n22]]\n",
    "\n",
    "Result is:\n",
    "\n",
    "[\n",
    "    [\n",
    "        [m11 m12] # row1 of M\n",
    "        [n11 n12] # row1 of N\n",
    "    ]\n",
    "    [\n",
    "        [m21 m22] # row2 of M\n",
    "        [n21 n22] # row2 of N\n",
    "    ]\n",
    "]\n",
    "\"\"\"\n",
    "new_num_random = np.random.random((2,5))\n",
    "print new_num_random\n",
    "print \"new_num_random: \", new_num_random.shape\n",
    "\n",
    "print num_random\n",
    "print \"num_random: \", num_random.shape\n",
    "\n",
    "print np.stack((num_random, new_num_random), axis=0)\n",
    "print \"num_random row stacked: \", np.stack((num_random, new_num_random), axis=0).shape\n",
    "\n",
    "print np.stack((num_random, new_num_random), axis=1)\n",
    "print \"num_random col stacked: \", np.stack((num_random, new_num_random), axis=1).shape"
   ]
  },
  {
   "cell_type": "code",
   "execution_count": 33,
   "metadata": {},
   "outputs": [
    {
     "name": "stdout",
     "output_type": "stream",
     "text": [
      "[array([[0.43024604, 0.15245753, 0.35833696, 0.1471723 , 0.29022964]]), array([[0.82986013, 0.75637921, 0.52636961, 0.10669276, 0.85422419]])]\n",
      "[array([[0.43024604],\n",
      "       [0.82986013]]), array([[0.15245753],\n",
      "       [0.75637921]]), array([[0.35833696],\n",
      "       [0.52636961]]), array([[0.1471723 ],\n",
      "       [0.10669276]]), array([[0.29022964],\n",
      "       [0.85422419]])]\n",
      "hsplit below: \n",
      "[array([[0.43024604],\n",
      "       [0.82986013]]), array([[0.15245753],\n",
      "       [0.75637921]]), array([[0.35833696],\n",
      "       [0.52636961]]), array([[0.1471723 ],\n",
      "       [0.10669276]]), array([[0.29022964],\n",
      "       [0.85422419]])]\n",
      "vsplit below: \n",
      "[array([[0.43024604, 0.15245753, 0.35833696, 0.1471723 , 0.29022964]]), array([[0.82986013, 0.75637921, 0.52636961, 0.10669276, 0.85422419]])]\n"
     ]
    }
   ],
   "source": [
    "\"\"\"\n",
    "Splitting: split, hsplit & vsplit\n",
    "\n",
    "Returns a list of arrays equal to the number of splits. Ensure that equal division is achieved from the defined splits.\n",
    "\n",
    "hsplit - equivalent to split by column (axis=1)\n",
    "vsplit - equivalent to split by rows (axis=0)\n",
    "\"\"\"\n",
    "\n",
    "print np.split(num_random,2) # row split by default\n",
    "\n",
    "# np.split(num_random,5) -- throws error\n",
    "\n",
    "print np.split(num_random,5,axis=1) # column split\n",
    "\n",
    "print \"hsplit below: \"\n",
    "print np.hsplit(num_random,5)\n",
    "\n",
    "print \"vsplit below: \"\n",
    "print np.vsplit(num_random,2)\n"
   ]
  },
  {
   "cell_type": "code",
   "execution_count": 47,
   "metadata": {},
   "outputs": [
    {
     "name": "stdout",
     "output_type": "stream",
     "text": [
      "[[0.43024604 0.15245753 0.35833696 0.1471723  0.29022964]\n",
      " [0.82986013 0.75637921 0.52636961 0.10669276 0.85422419]]\n",
      "(2, 5)\n",
      "Append:  [0.43024604 0.15245753 0.35833696 0.1471723  0.29022964 0.82986013\n",
      " 0.75637921 0.52636961 0.10669276 0.85422419 1.         0.\n",
      " 0.         0.         0.        ]\n",
      "Appended shape:  (15,)\n",
      "Insert:  [0.43024604 0.15245753 1.12       2.221      0.35833696 0.1471723\n",
      " 0.29022964 0.82986013 0.75637921 0.52636961 0.10669276 0.85422419]\n",
      "Insert shape:  (12,)\n",
      "Delete:  [0.43024604 0.15245753 0.35833696 0.1471723  0.82986013 0.75637921\n",
      " 0.52636961 0.10669276 0.85422419]\n"
     ]
    }
   ],
   "source": [
    "\"\"\"\n",
    "Insert, Append & Delete\n",
    "\n",
    "Apply on a flattened/1D array\n",
    "\n",
    "Append: Appends newer elements.\n",
    "        If not a 1D array, it flattens the input array and appends the newer elements.\n",
    "\n",
    "Insert: Inserts newer elements at the defined index position.\n",
    "        Not sure about axis argument. Figure out why error is thrown when axis=1\n",
    "    \n",
    "Delete: Delete the element at the specified index position.\n",
    "        If not a 1D array, it flattens the array before deletion.\n",
    "\"\"\"\n",
    "\n",
    "print num_random\n",
    "print num_random.shape\n",
    "\n",
    "print \"Append: \", np.append(num_random,[1,0,0,0,0])\n",
    "print \"Appended shape: \", np.append(num_random,[1,0,0,0,0]).shape\n",
    "\n",
    "print \"Insert: \", np.insert(num_random.flatten(), 2, [1.12, 2.221], axis=0)\n",
    "print \"Insert shape: \", np.insert(num_random.flatten(), 2, [1.12, 2.221], axis=0).shape\n",
    "\n",
    "print \"Delete: \", np.delete(num_random, 4)"
   ]
  },
  {
   "cell_type": "code",
   "execution_count": 51,
   "metadata": {},
   "outputs": [
    {
     "name": "stdout",
     "output_type": "stream",
     "text": [
      "[[0.43436131 0.56658863 0.76988074 0.824777   0.50367892]\n",
      " [1.01396285 1.63488564 1.21245501 0.93331519 1.56618733]]\n",
      "[[ 0.42613077 -0.26167357 -0.05320681 -0.5304324   0.07678036]\n",
      " [ 0.64575741 -0.12212723 -0.15971579 -0.71992967  0.14226106]]\n",
      "[[0.00177058 0.0631374  0.14747135 0.09972464 0.06194931]\n",
      " [0.15277951 0.664484   0.36113451 0.08819463 0.60817614]]\n",
      "[[104.54860149   0.36813833   0.87071408   0.21719492   1.35971246]\n",
      " [  4.50759293   0.86098312   0.76720713   0.12907073   1.1998152 ]]\n"
     ]
    }
   ],
   "source": [
    "\"\"\"\n",
    "Element-wise operations:\n",
    "\n",
    "np.addition --> numpy + numpy\n",
    "np.subtract --> numpy - numpy\n",
    "np.multiply --> numpy * numpy\n",
    "np.sqrt --> Square root each element in the array\n",
    "\n",
    "Note: To divide ensure it is converted to float before performing division operation:\n",
    "i.e., \n",
    "\n",
    "1. * numpy/numpy\n",
    "\"\"\"\n",
    "\n",
    "print np.add(num_random,new_num_random)\n",
    "print np.subtract(num_random, new_num_random)\n",
    "print np.multiply(num_random, new_num_random)\n",
    "print 1. * num_random/new_num_random"
   ]
  },
  {
   "cell_type": "code",
   "execution_count": 65,
   "metadata": {},
   "outputs": [
    {
     "name": "stdout",
     "output_type": "stream",
     "text": [
      "4.45196836853457\n",
      "[1.26010617 0.90883673 0.88470657 0.25386506 1.14445383]\n",
      "----------------------------------------\n",
      "0.10669275688538182\n",
      "[0.1471723  0.10669276]\n",
      "----------------------------------------\n",
      "0.8542241918902145\n",
      "[0.82986013 0.75637921 0.52636961 0.1471723  0.85422419]\n",
      "----------------------------------------\n",
      "0.445196836853457\n",
      "[0.29022964 0.75637921]\n",
      "[0.11192188 0.27914596]\n",
      "----------------------------------------\n",
      "[0.43024604 0.58270357 0.94104053 1.08821283 1.37844248 2.2083026\n",
      " 2.96468181 3.49105142 3.59774418 4.45196837]\n",
      "[[0.43024604 0.58270357 0.94104053 1.08821283 1.37844248]\n",
      " [0.82986013 1.58623933 2.11260894 2.2193017  3.07352589]]\n",
      "----------------------------------------\n",
      "[0.10669276 0.1471723  0.15245753 0.29022964 0.35833696 0.43024604\n",
      " 0.52636961 0.75637921 0.82986013 0.85422419]\n",
      "[[0.1471723  0.15245753 0.29022964 0.35833696 0.43024604]\n",
      " [0.10669276 0.75637921 0.85422419 0.52636961 0.82986013]]\n"
     ]
    }
   ],
   "source": [
    "\"\"\"\n",
    "Aggregations:\n",
    "\n",
    "np.sum(), np.min(), np.max(), np.mean(), np.median(), np.std(), np.cumsum()\n",
    "\n",
    "also,\n",
    "np.unique()\n",
    "\n",
    "Note: These operations can be performed row/col-wise as well.\n",
    "\"\"\"\n",
    "\n",
    "print np.sum(num_random)\n",
    "print np.sum(num_random, axis=0) # col-wise sum ; sum of all rows, for each column\n",
    "print \"----------------------------------------\"\n",
    "print np.min(num_random)\n",
    "print np.min(num_random, axis=1)\n",
    "print \"----------------------------------------\"\n",
    "print np.max(num_random)\n",
    "print np.max(num_random, axis=0)\n",
    "print \"----------------------------------------\"\n",
    "print np.mean(num_random)\n",
    "print np.median(num_random, axis=1)\n",
    "print np.std(num_random, axis=1)\n",
    "print \"----------------------------------------\"\n",
    "print np.cumsum(num_random)\n",
    "print np.cumsum(num_random, axis=1)\n",
    "print \"----------------------------------------\"\n",
    "print np.unique(num_random)\n",
    "print np.unique(num_random,axis=1)"
   ]
  },
  {
   "cell_type": "code",
   "execution_count": 71,
   "metadata": {},
   "outputs": [
    {
     "name": "stdout",
     "output_type": "stream",
     "text": [
      "[[0.31098053 0.42749587 0.90351884]\n",
      " [0.39161818 0.94947178 0.19356277]]\n",
      "----------------------------------------\n",
      "[[0 2]\n",
      " [6 0]\n",
      " [1 3]]\n",
      "----------------------------------------\n",
      "Dot:  [[3.46849405 3.3325176 ]\n",
      " [5.89039344 1.36392466]]\n"
     ]
    }
   ],
   "source": [
    "\"\"\"\n",
    "Inner product (np.dot) & Matrix Multiplication\n",
    "\"\"\"\n",
    "\n",
    "X = np.random.randint(7,size=(3,2))\n",
    "w = np.random.random((2,3))\n",
    "\n",
    "print w\n",
    "print \"----------------------------------------\"\n",
    "print X\n",
    "print \"----------------------------------------\"\n",
    "\n",
    "print \"Dot: \", np.dot(w,X)"
   ]
  }
 ],
 "metadata": {
  "kernelspec": {
   "display_name": "Python 2",
   "language": "python",
   "name": "python2"
  },
  "language_info": {
   "codemirror_mode": {
    "name": "ipython",
    "version": 2
   },
   "file_extension": ".py",
   "mimetype": "text/x-python",
   "name": "python",
   "nbconvert_exporter": "python",
   "pygments_lexer": "ipython2",
   "version": "2.7.15rc1"
  }
 },
 "nbformat": 4,
 "nbformat_minor": 2
}

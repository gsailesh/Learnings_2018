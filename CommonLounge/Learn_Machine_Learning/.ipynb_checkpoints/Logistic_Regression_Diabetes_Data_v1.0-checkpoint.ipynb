{
 "cells": [
  {
   "cell_type": "code",
   "execution_count": 1,
   "metadata": {},
   "outputs": [],
   "source": [
    "import pandas as pd\n",
    "import numpy as np\n",
    "from sklearn.linear_model import LogisticRegression"
   ]
  },
  {
   "cell_type": "code",
   "execution_count": 4,
   "metadata": {},
   "outputs": [
    {
     "data": {
      "text/html": [
       "<div>\n",
       "<style scoped>\n",
       "    .dataframe tbody tr th:only-of-type {\n",
       "        vertical-align: middle;\n",
       "    }\n",
       "\n",
       "    .dataframe tbody tr th {\n",
       "        vertical-align: top;\n",
       "    }\n",
       "\n",
       "    .dataframe thead th {\n",
       "        text-align: right;\n",
       "    }\n",
       "</style>\n",
       "<table border=\"1\" class=\"dataframe\">\n",
       "  <thead>\n",
       "    <tr style=\"text-align: right;\">\n",
       "      <th></th>\n",
       "      <th>Pregnancies</th>\n",
       "      <th>Glucose</th>\n",
       "      <th>BloodPressure</th>\n",
       "      <th>SkinThickness</th>\n",
       "      <th>Insulin</th>\n",
       "      <th>BMI</th>\n",
       "      <th>DiabetesPedigreeFunction</th>\n",
       "      <th>Age</th>\n",
       "      <th>Outcome</th>\n",
       "    </tr>\n",
       "  </thead>\n",
       "  <tbody>\n",
       "    <tr>\n",
       "      <th>0</th>\n",
       "      <td>6</td>\n",
       "      <td>148</td>\n",
       "      <td>72</td>\n",
       "      <td>35</td>\n",
       "      <td>0</td>\n",
       "      <td>33.6</td>\n",
       "      <td>0.627</td>\n",
       "      <td>50</td>\n",
       "      <td>1</td>\n",
       "    </tr>\n",
       "    <tr>\n",
       "      <th>1</th>\n",
       "      <td>1</td>\n",
       "      <td>85</td>\n",
       "      <td>66</td>\n",
       "      <td>29</td>\n",
       "      <td>0</td>\n",
       "      <td>26.6</td>\n",
       "      <td>0.351</td>\n",
       "      <td>31</td>\n",
       "      <td>0</td>\n",
       "    </tr>\n",
       "    <tr>\n",
       "      <th>2</th>\n",
       "      <td>8</td>\n",
       "      <td>183</td>\n",
       "      <td>64</td>\n",
       "      <td>0</td>\n",
       "      <td>0</td>\n",
       "      <td>23.3</td>\n",
       "      <td>0.672</td>\n",
       "      <td>32</td>\n",
       "      <td>1</td>\n",
       "    </tr>\n",
       "  </tbody>\n",
       "</table>\n",
       "</div>"
      ],
      "text/plain": [
       "   Pregnancies  Glucose  BloodPressure  SkinThickness  Insulin   BMI  \\\n",
       "0            6      148             72             35        0  33.6   \n",
       "1            1       85             66             29        0  26.6   \n",
       "2            8      183             64              0        0  23.3   \n",
       "\n",
       "   DiabetesPedigreeFunction  Age  Outcome  \n",
       "0                     0.627   50        1  \n",
       "1                     0.351   31        0  \n",
       "2                     0.672   32        1  "
      ]
     },
     "execution_count": 4,
     "metadata": {},
     "output_type": "execute_result"
    }
   ],
   "source": [
    "'''\n",
    "Reading the diabetes dataset.\n",
    "'''\n",
    "\n",
    "diabetes_data = pd.read_csv('../data/diabetes.csv')\n",
    "diabetes_data.head(3)"
   ]
  },
  {
   "cell_type": "code",
   "execution_count": 23,
   "metadata": {},
   "outputs": [
    {
     "name": "stdout",
     "output_type": "stream",
     "text": [
      "Training set dims:  (650, 9)\n",
      "Test set dims:  (100, 9)\n",
      "Validation set dims:  (18, 9)\n",
      "Training data array dims:  (650, 8)\n",
      "Testing data array dims:  (100, 8)\n",
      "Validation data array dims:  (18, 8)\n"
     ]
    }
   ],
   "source": [
    "'''\n",
    "Splitting the dataset into train, test and validation sets.\n",
    "'''\n",
    "\n",
    "training_set = diabetes_data[:650]\n",
    "test_set = diabetes_data[650:750]\n",
    "validation_set = diabetes_data[750:]\n",
    "\n",
    "print \"Training set dims: \", training_set.shape\n",
    "print \"Test set dims: \", test_set.shape\n",
    "print \"Validation set dims: \", validation_set.shape\n",
    "\n",
    "X_train = np.asarray(training_set.drop(labels=['Outcome'],axis=1))\n",
    "X_test = np.asarray(test_set.drop(labels=['Outcome'],axis=1))\n",
    "X_val = np.asarray(validation_set.drop(labels=['Outcome'],axis=1))\n",
    "\n",
    "y_train = np.asarray(training_set['Outcome'])\n",
    "y_test = np.asarray(test_set['Outcome'])\n",
    "y_val = np.asarray(validation_set['Outcome'])\n",
    "\n",
    "print \"Training data array dims: \", X_train.shape\n",
    "print \"Testing data array dims: \", X_test.shape\n",
    "print \"Validation data array dims: \", X_val.shape"
   ]
  },
  {
   "cell_type": "code",
   "execution_count": 24,
   "metadata": {},
   "outputs": [
    {
     "name": "stdout",
     "output_type": "stream",
     "text": [
      "Normal:  [[  6.    148.     72.     35.      0.     33.6     0.627  50.   ]]\n",
      "Scaled:  [[ 0.65609843  0.85947618  0.17307096  0.91892478 -0.6856602   0.22643904\n",
      "   0.43769718  1.45472123]]\n"
     ]
    }
   ],
   "source": [
    "'''\n",
    "Standardizing/Re-scaling the data:\n",
    "\n",
    "Applying row-wise mean and standard deviation and then standardize as below--\n",
    "(X - mean(X))/std(X)\n",
    "\n",
    "'''\n",
    "training_means = np.mean(X_train,axis=0)\n",
    "training_std = np.std(X_train,axis=0)\n",
    "\n",
    "# use the mean/sd of training dataset to standardize the test set too!\n",
    "X_train_standardized = (X_train - training_means)/training_std\n",
    "X_test_standardized = (X_test - training_means)/training_std\n",
    "\n",
    "#compare normal & scaled datapoint\n",
    "print \"Normal: \", X_train[:1]\n",
    "print \"Scaled: \", X_train_standardized[:1]"
   ]
  },
  {
   "cell_type": "code",
   "execution_count": 28,
   "metadata": {},
   "outputs": [
    {
     "name": "stdout",
     "output_type": "stream",
     "text": [
      "Training Accuracy:  76.0 %\n",
      "Model coefficients:  [[ 1.26565131e-01  2.58913227e-02 -1.69931846e-02 -4.07209378e-04\n",
      "  -2.69966585e-04  6.32995386e-02  7.23316699e-01  2.12817396e-03]]\n"
     ]
    }
   ],
   "source": [
    "model = LogisticRegression()\n",
    "model.fit(X_train, y_train)\n",
    "\n",
    "training_accuracy = model.score(X_test, y_test)\n",
    "print \"Training Accuracy: \", training_accuracy*100, \"%\"\n",
    "print \"Model coefficients: \", model.coef_"
   ]
  },
  {
   "cell_type": "code",
   "execution_count": 36,
   "metadata": {},
   "outputs": [
    {
     "name": "stdout",
     "output_type": "stream",
     "text": [
      "                   features     coeff\n",
      "6  DiabetesPedigreeFunction  0.723317\n",
      "0               Pregnancies  0.126565\n",
      "5                       BMI  0.063300\n",
      "1                   Glucose  0.025891\n",
      "7                       Age  0.002128\n",
      "4                   Insulin -0.000270\n",
      "3             SkinThickness -0.000407\n",
      "2             BloodPressure -0.016993\n"
     ]
    },
    {
     "data": {
      "text/plain": [
       "<matplotlib.axes._subplots.AxesSubplot at 0x7fd7c632c7d0>"
      ]
     },
     "execution_count": 36,
     "metadata": {},
     "output_type": "execute_result"
    },
    {
     "data": {
      "image/png": "[encoded data removed]",
      "text/plain": [
       "<Figure size 432x288 with 1 Axes>"
      ]
     },
     "metadata": {},
     "output_type": "display_data"
    }
   ],
   "source": [
    "columns = list(training_set.drop(['Outcome'],axis=1).columns)\n",
    "coefficicents = model.coef_[0] # inner list contains the coeffs\n",
    "\n",
    "feature_importance = pd.DataFrame()\n",
    "feature_importance['features'] = columns\n",
    "feature_importance['coeff'] = coefficicents\n",
    "# feature_importance.head(2)\n",
    "feature_importance.sort_values(by=['coeff'],ascending=False,inplace=True)\n",
    "print feature_importance\n",
    "\n",
    "feature_importance['positive'] = feature_importance['coeff'] > 0\n",
    "feature_importance.set_index(['features'],inplace=True)\n",
    "\n",
    "feature_importance.plot(kind='barh',title='Feature Importance')"
   ]
  },
  {
   "cell_type": "code",
   "execution_count": 48,
   "metadata": {},
   "outputs": [
    {
     "name": "stdout",
     "output_type": "stream",
     "text": [
      "[0 0 0 0 0 0 0 0 0 0 0 0 0 0 0 0 0 0]\n"
     ]
    },
    {
     "data": {
      "text/plain": [
       "'[PENDING]'"
      ]
     },
     "execution_count": 48,
     "metadata": {},
     "output_type": "execute_result"
    }
   ],
   "source": [
    "X_val_standardized = (X_val - training_means)/training_std\n",
    "\n",
    "predicted_validation_probabilities = model.predict_proba(X_val_standardized)\n",
    "predicted_validations = model.predict(X_val_standardized)\n",
    "\n",
    "\n",
    "print predicted_validations\n",
    "'''[PENDING]'''\n",
    "# validation_result = validation_data\n",
    "# validation_result['Prediction'] = predicted_validations.tolist()\n",
    "# validation_result['Probability'] = predicted_validation_probabilities.tolist()\n",
    "\n"
   ]
  }
 ],
 "metadata": {
  "kernelspec": {
   "display_name": "Python 2",
   "language": "python",
   "name": "python2"
  },
  "language_info": {
   "codemirror_mode": {
    "name": "ipython",
    "version": 2
   },
   "file_extension": ".py",
   "mimetype": "text/x-python",
   "name": "python",
   "nbconvert_exporter": "python",
   "pygments_lexer": "ipython2",
   "version": "2.7.15rc1"
  }
 },
 "nbformat": 4,
 "nbformat_minor": 2
}

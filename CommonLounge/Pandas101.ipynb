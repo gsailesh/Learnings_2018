{
 "cells": [
  {
   "cell_type": "code",
   "execution_count": 1,
   "metadata": {},
   "outputs": [
    {
     "data": {
      "text/plain": [
       "u'0.23.2'"
      ]
     },
     "execution_count": 1,
     "metadata": {},
     "output_type": "execute_result"
    }
   ],
   "source": [
    "import numpy as np\n",
    "import pandas as pd\n",
    "import matplotlib.pyplot as plt\n",
    "pd.__version__"
   ]
  },
  {
   "cell_type": "code",
   "execution_count": 2,
   "metadata": {},
   "outputs": [
    {
     "name": "stdout",
     "output_type": "stream",
     "text": [
      "f1    0.23\n",
      "f2    0.50\n",
      "f3    0.55\n",
      "f4    0.78\n",
      "dtype: float64\n",
      "--------------------------------\n",
      "f1\n",
      "--------------------------------\n",
      "key1     123\n",
      "key2     432\n",
      "key3    3029\n",
      "key4    8990\n",
      "key5     320\n",
      "dtype: int64\n"
     ]
    }
   ],
   "source": [
    "\"\"\"\n",
    "Pandas Series\n",
    "\"\"\"\n",
    "num_series = pd.Series([0.23,0.5,0.55,0.78],index = ['f1','f2','f3','f4'])\n",
    "char_series = pd.Series(['f1','f2','f3','f4'], index = [1,2,3,4])\n",
    "\n",
    "print num_series\n",
    "print '--------------------------------'\n",
    "print char_series[1]\n",
    "\n",
    "\"\"\"\n",
    "Pandas series can also be directly constructed from dictionary\n",
    "\"\"\"\n",
    "price_dict = {'key1':123, 'key2':432, 'key3':3029, 'key4':8990, 'key5':320}\n",
    "price_series = pd.Series(price_dict)\n",
    "print '--------------------------------'\n",
    "print price_series"
   ]
  },
  {
   "cell_type": "code",
   "execution_count": 3,
   "metadata": {},
   "outputs": [
    {
     "name": "stdout",
     "output_type": "stream",
     "text": [
      "      price\n",
      "key1    123\n",
      "key2    432\n",
      "key3   3029\n",
      "key4   8990\n",
      "key5    320\n",
      "    k1   k2    k3\n",
      "0  565  542  3433\n",
      "1  325  142   348\n"
     ]
    }
   ],
   "source": [
    "\"\"\"\n",
    "Pandas DataFrame\n",
    "\n",
    "1. from Series\n",
    "2. from Dict\n",
    "3. from file -- pd.read_csv\n",
    "\"\"\"\n",
    "\n",
    "#1. From series\n",
    "price_dataframe = pd.DataFrame(price_series, columns=['price'])\n",
    "print price_dataframe\n",
    "\n",
    "#2. From Dictionary\n",
    "temp_dict = {'k1':565, 'k2':542, 'k3': 3433}\n",
    "temp_dict2 = {'k1':325, 'k2':142, 'k3': 348}\n",
    "price_dataframe = pd.DataFrame([temp_dict, temp_dict2])\n",
    "print price_dataframe"
   ]
  },
  {
   "cell_type": "code",
   "execution_count": 4,
   "metadata": {},
   "outputs": [
    {
     "name": "stdout",
     "output_type": "stream",
     "text": [
      "UK Retail dataset\n",
      "Shape:\n",
      "------------\n",
      "(325145, 8)\n",
      "Info:\n",
      "------------\n",
      "<class 'pandas.core.frame.DataFrame'>\n",
      "RangeIndex: 325145 entries, 0 to 325144\n",
      "Data columns (total 8 columns):\n",
      "InvoiceNo      325145 non-null object\n",
      "StockCode      325145 non-null object\n",
      "Description    324275 non-null object\n",
      "Quantity       325145 non-null int64\n",
      "InvoiceDate    325145 non-null object\n",
      "UnitPrice      325145 non-null float64\n",
      "CustomerID     244154 non-null float64\n",
      "Country        325145 non-null object\n",
      "dtypes: float64(2), int64(1), object(5)\n",
      "memory usage: 19.8+ MB\n",
      "None\n",
      "Head:\n",
      "------------\n",
      "  InvoiceNo StockCode                          Description  Quantity  \\\n",
      "0    536365     22752         SET 7 BABUSHKA NESTING BOXES         2   \n",
      "1    536365     71053                  WHITE METAL LANTERN         6   \n",
      "2    536365    84029G  KNITTED UNION FLAG HOT WATER BOTTLE         6   \n",
      "3    536365    85123A   WHITE HANGING HEART T-LIGHT HOLDER         6   \n",
      "4    536366     22633               HAND WARMER UNION JACK         6   \n",
      "\n",
      "           InvoiceDate  UnitPrice  CustomerID         Country  \n",
      "0  2010-12-01 08:26:02       7.65     17850.0  United Kingdom  \n",
      "1  2010-12-01 08:26:02       3.39     17850.0  United Kingdom  \n",
      "2  2010-12-01 08:26:02       3.39     17850.0  United Kingdom  \n",
      "3  2010-12-01 08:26:02       2.55     17850.0  United Kingdom  \n",
      "4  2010-12-01 08:28:02       1.85     17850.0  United Kingdom  \n",
      "Describe:\n",
      "------------\n",
      "            Quantity      UnitPrice     CustomerID\n",
      "count  325145.000000  325145.000000  244154.000000\n",
      "mean        9.273340       4.845239   15288.823120\n",
      "std       154.394112     116.830451    1713.496816\n",
      "min    -80995.000000  -11062.060000   12347.000000\n",
      "25%         1.000000       1.250000   13959.000000\n",
      "50%         3.000000       2.080000   15150.000000\n",
      "75%        10.000000       4.130000   16792.750000\n",
      "max     12540.000000   38970.000000   18287.000000\n",
      "x:\n",
      "------------\n"
     ]
    }
   ],
   "source": [
    "ukretail = pd.read_csv('data/UKretail.csv')\n",
    "print \"UK Retail dataset\"\n",
    "print \"Shape:\"\n",
    "print \"------------\"\n",
    "\n",
    "print ukretail.shape\n",
    "\n",
    "print \"Info:\"\n",
    "print \"------------\"\n",
    "\n",
    "print ukretail.info()\n",
    "\n",
    "print \"Head:\"\n",
    "print \"------------\"\n",
    "\n",
    "print ukretail.head()\n",
    "\n",
    "print \"Describe:\"\n",
    "print \"------------\"\n",
    "\n",
    "print ukretail.describe()\n",
    "\n",
    "print \"x:\"\n",
    "print \"------------\"\n"
   ]
  },
  {
   "cell_type": "code",
   "execution_count": 5,
   "metadata": {},
   "outputs": [
    {
     "name": "stdout",
     "output_type": "stream",
     "text": [
      "['InvoiceNo' 'StockCode' 'Description' 'Quantity' 'InvoiceDate'\n",
      " 'UnitPrice' 'CustomerID' 'Country']\n",
      "                           Description  Quantity\n",
      "0         SET 7 BABUSHKA NESTING BOXES         2\n",
      "1                  WHITE METAL LANTERN         6\n",
      "2  KNITTED UNION FLAG HOT WATER BOTTLE         6\n",
      "                          Description  Quantity\n",
      "325142   CHILDREN'S APRON DOLLY GIRL          6\n",
      "325143  CHILDRENS CUTLERY DOLLY GIRL          4\n",
      "325144    CHILDRENS CUTLERY SPACEBOY          4\n"
     ]
    }
   ],
   "source": [
    "print ukretail.columns.values\n",
    "\n",
    "print ukretail[['Description','Quantity']].head(3)\n",
    "print ukretail.iloc[:,[2,3]].tail(3)\n"
   ]
  },
  {
   "cell_type": "code",
   "execution_count": 6,
   "metadata": {},
   "outputs": [
    {
     "name": "stdout",
     "output_type": "stream",
     "text": [
      "['Quantity' 'UnitPrice' 'revenue']\n"
     ]
    },
    {
     "data": {
      "image/png": "[encoded data removed]",
      "text/plain": [
       "<Figure size 432x288 with 1 Axes>"
      ]
     },
     "metadata": {},
     "output_type": "display_data"
    }
   ],
   "source": [
    "\"\"\"\n",
    "Analyse & Visualize\n",
    "\"\"\"\n",
    "\n",
    "ukretail['revenue'] = ukretail.Quantity*ukretail.UnitPrice\n",
    "ukretail_sub = ukretail\n",
    "\n",
    "ukretail_sub = ukretail_sub[['Quantity','UnitPrice','revenue']]\n",
    "print ukretail_sub.columns.values\n",
    "\n",
    "ukretail.plot(kind='line', x='InvoiceDate', y='revenue')\n",
    "plt.show()"
   ]
  },
  {
   "cell_type": "code",
   "execution_count": 7,
   "metadata": {},
   "outputs": [
    {
     "name": "stdout",
     "output_type": "stream",
     "text": [
      "Negative revenue data:  (5588, 9)\n",
      "Shape after dropping datapoints with negative revenue (319557, 9)\n"
     ]
    },
    {
     "data": {
      "image/png": "[encoded data removed]",
      "text/plain": [
       "<Figure size 432x288 with 1 Axes>"
      ]
     },
     "metadata": {},
     "output_type": "display_data"
    }
   ],
   "source": [
    "ukretail_negative_revenue = ukretail[ukretail['revenue'] < 0]\n",
    "print \"Negative revenue data: \", ukretail_negative_revenue.shape\n",
    "\n",
    "ukretail.drop(ukretail[ukretail['revenue']<0].index,inplace=True)\n",
    "print \"Shape after dropping datapoints with negative revenue\", ukretail.shape\n",
    "\n",
    "ukretail.plot(kind='line', x='InvoiceDate', y='revenue')\n",
    "plt.show()"
   ]
  },
  {
   "cell_type": "code",
   "execution_count": 8,
   "metadata": {},
   "outputs": [
    {
     "name": "stdout",
     "output_type": "stream",
     "text": [
      "   index         Country      revenue\n",
      "0     36  United Kingdom  5311080.101\n",
      "1     10            EIRE   176304.590\n",
      "2     24     Netherlands   165582.790\n",
      "3     14         Germany   138778.440\n",
      "4     13          France   127193.680\n",
      "5      0       Australia    79197.590\n",
      "6     31           Spain    36116.710\n",
      "7     33     Switzerland    34315.240\n",
      "8      3         Belgium    24014.970\n",
      "9     25          Norway    23182.220\n"
     ]
    },
    {
     "data": {
      "image/png": "[encoded data removed]",
      "text/plain": [
       "<Figure size 432x288 with 1 Axes>"
      ]
     },
     "metadata": {},
     "output_type": "display_data"
    }
   ],
   "source": [
    "\"\"\"\n",
    "Group the ukretail dataset by Country\n",
    "\"\"\"\n",
    "ukretail_country_revenue = ukretail.groupby('Country')\n",
    "# print ukretail_country_revenue.head()\n",
    "\"\"\"\n",
    "Transform the grouped dataframe with only revenue sum as attribute and reset the index\n",
    "\"\"\"\n",
    "ukretail_country_revenue = ukretail.groupby('Country')['revenue'].sum().reset_index()\n",
    "# print ukretail_country_revenue.head()\n",
    "\n",
    "\"\"\"\n",
    "Order by revenue descending\n",
    "\"\"\"\n",
    "ukretail_country_revenue = ukretail_country_revenue.sort_values(by='revenue',ascending=False).reset_index()\n",
    "print ukretail_country_revenue.head(10)\n",
    "\n",
    "ukretail_country_revenue.iloc[0:10,:].plot(kind='line',x='Country', y='revenue')\n",
    "plt.show()"
   ]
  },
  {
   "cell_type": "code",
   "execution_count": 13,
   "metadata": {},
   "outputs": [
    {
     "name": "stdout",
     "output_type": "stream",
     "text": [
      "   index Country      revenue\n",
      "0     36      UK  5311080.101\n",
      "1     10    EIRE   176304.590\n",
      "2     24      NL   165582.790\n",
      "3     14     GER   138778.440\n",
      "4     13      FR   127193.680\n",
      "5      0     AUS    79197.590\n",
      "6     31     ESP    36116.710\n",
      "7     33     SWI    34315.240\n",
      "8      3     BEL    24014.970\n",
      "9     25     NOR    23182.220\n"
     ]
    }
   ],
   "source": [
    "# print ukretail[ukretail.CustomerID.isna()]\n",
    "ukretail.CustomerID.fillna(value=-1,inplace=True)\n",
    "\n",
    "\n",
    "country_code_map = {'United Kingdom':'UK', 'Netherlands':'NL', 'Germany':'GER', 'France':'FR', 'Australia':'AUS', 'Spain':'ESP', 'Switzerland':'SWI', 'Belgium':'BEL', 'Norway':'NOR'}\n",
    "ukretail_country_revenue = ukretail_country_revenue.applymap(lambda country: country_code_map.get(country) if country in country_code_map else country)\n",
    "\n",
    "print ukretail_country_revenue.head(10)"
   ]
  },
  {
   "cell_type": "code",
   "execution_count": 14,
   "metadata": {},
   "outputs": [
    {
     "name": "stdout",
     "output_type": "stream",
     "text": [
      "The Zen of Python, by Tim Peters\n",
      "\n",
      "Beautiful is better than ugly.\n",
      "Explicit is better than implicit.\n",
      "Simple is better than complex.\n",
      "Complex is better than complicated.\n",
      "Flat is better than nested.\n",
      "Sparse is better than dense.\n",
      "Readability counts.\n",
      "Special cases aren't special enough to break the rules.\n",
      "Although practicality beats purity.\n",
      "Errors should never pass silently.\n",
      "Unless explicitly silenced.\n",
      "In the face of ambiguity, refuse the temptation to guess.\n",
      "There should be one-- and preferably only one --obvious way to do it.\n",
      "Although that way may not be obvious at first unless you're Dutch.\n",
      "Now is better than never.\n",
      "Although never is often better than *right* now.\n",
      "If the implementation is hard to explain, it's a bad idea.\n",
      "If the implementation is easy to explain, it may be a good idea.\n",
      "Namespaces are one honking great idea -- let's do more of those!\n"
     ]
    }
   ],
   "source": [
    "import this # :D"
   ]
  }
 ],
 "metadata": {
  "kernelspec": {
   "display_name": "Python 2",
   "language": "python",
   "name": "python2"
  },
  "language_info": {
   "codemirror_mode": {
    "name": "ipython",
    "version": 2
   },
   "file_extension": ".py",
   "mimetype": "text/x-python",
   "name": "python",
   "nbconvert_exporter": "python",
   "pygments_lexer": "ipython2",
   "version": "2.7.15rc1"
  }
 },
 "nbformat": 4,
 "nbformat_minor": 2
}

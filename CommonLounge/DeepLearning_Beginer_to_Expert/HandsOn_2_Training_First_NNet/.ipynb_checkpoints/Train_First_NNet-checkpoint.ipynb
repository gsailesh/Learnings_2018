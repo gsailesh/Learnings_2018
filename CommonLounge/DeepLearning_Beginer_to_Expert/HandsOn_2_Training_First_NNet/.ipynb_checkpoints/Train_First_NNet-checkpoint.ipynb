{
 "cells": [
  {
   "cell_type": "code",
   "execution_count": 1,
   "metadata": {},
   "outputs": [],
   "source": [
    "import numpy as np\n",
    "import random"
   ]
  },
  {
   "cell_type": "code",
   "execution_count": 2,
   "metadata": {},
   "outputs": [],
   "source": [
    "def prepare_data():\n",
    "    x1 = np.random.randint(0,1)\n",
    "    x2 = np.random.randint(0,1)\n",
    "\n",
    "    y = 0 if(x1 == x2) else 1\n",
    "    \n",
    "    #noise addition\n",
    "    x1 += 0.1*random.random()\n",
    "    x2 += 0.1*random.random()\n",
    "    y += 0.1*random.random()\n",
    "    \n",
    "    return [x1, x2], y"
   ]
  },
  {
   "cell_type": "code",
   "execution_count": 3,
   "metadata": {},
   "outputs": [],
   "source": [
    "def make_batch(batch_size=10):\n",
    "    data = [prepare_data() for i in range(batch_size)]\n",
    "    \n",
    "    X = [x for x,y in data]\n",
    "    y = [y for x,y in data]\n",
    "    \n",
    "    return np.array(X, dtype = 'float32'), np.array(y, dtype = 'float32')"
   ]
  },
  {
   "cell_type": "code",
   "execution_count": 4,
   "metadata": {},
   "outputs": [
    {
     "name": "stdout",
     "output_type": "stream",
     "text": [
      "(array([[0.07668127, 0.06804065],\n",
      "       [0.09561467, 0.05707565],\n",
      "       [0.07051428, 0.01725419],\n",
      "       [0.01339104, 0.01974729],\n",
      "       [0.06798628, 0.0966101 ],\n",
      "       [0.06972226, 0.06744643],\n",
      "       [0.07050761, 0.00694629],\n",
      "       [0.07102937, 0.09525492],\n",
      "       [0.03503715, 0.05438194],\n",
      "       [0.04931002, 0.03225676]], dtype=float32), array([0.04853331, 0.05480492, 0.01300978, 0.0337474 , 0.08805557,\n",
      "       0.00260667, 0.00020158, 0.01510316, 0.09940567, 0.06735855],\n",
      "      dtype=float32))\n",
      "('Number of batches in training set: ', 500)\n",
      "('Batch 1 dim: ', (10, 2), (10,))\n"
     ]
    }
   ],
   "source": [
    "#Sample\n",
    "print(make_batch())\n",
    "\n",
    "training_set = [make_batch() for i in range(500)]\n",
    "test_set = [make_batch() for i in range(50)]\n",
    "\n",
    "print(\"Number of batches in training set: \", len(training_set))\n",
    "print(\"Batch 1 dim: \", training_set[0][0].shape, training_set[0][1].shape)"
   ]
  },
  {
   "cell_type": "code",
   "execution_count": 5,
   "metadata": {},
   "outputs": [
    {
     "ename": "ImportError",
     "evalue": "No module named torch",
     "output_type": "error",
     "traceback": [
      "\u001b[0;31m---------------------------------------------------------------------------\u001b[0m",
      "\u001b[0;31mImportError\u001b[0m                               Traceback (most recent call last)",
      "\u001b[0;32m<ipython-input-5-eb947dab4d98>\u001b[0m in \u001b[0;36m<module>\u001b[0;34m()\u001b[0m\n\u001b[0;32m----> 1\u001b[0;31m \u001b[0;32mimport\u001b[0m \u001b[0mtorch\u001b[0m\u001b[0;34m\u001b[0m\u001b[0m\n\u001b[0m\u001b[1;32m      2\u001b[0m \u001b[0;32mimport\u001b[0m \u001b[0mtorch\u001b[0m\u001b[0;34m.\u001b[0m\u001b[0mnn\u001b[0m \u001b[0;32mas\u001b[0m \u001b[0mnn\u001b[0m\u001b[0;34m\u001b[0m\u001b[0m\n\u001b[1;32m      3\u001b[0m \u001b[0;32mimport\u001b[0m \u001b[0mtorch\u001b[0m\u001b[0;34m.\u001b[0m\u001b[0mnn\u001b[0m\u001b[0;34m.\u001b[0m\u001b[0mFunctional\u001b[0m \u001b[0;32mas\u001b[0m \u001b[0mF\u001b[0m\u001b[0;34m\u001b[0m\u001b[0m\n\u001b[1;32m      4\u001b[0m \u001b[0;32mimport\u001b[0m \u001b[0mtorch\u001b[0m\u001b[0;34m.\u001b[0m\u001b[0moptim\u001b[0m \u001b[0;32mas\u001b[0m \u001b[0moptim\u001b[0m\u001b[0;34m\u001b[0m\u001b[0m\n\u001b[1;32m      5\u001b[0m \u001b[0;32mfrom\u001b[0m \u001b[0mtorch\u001b[0m\u001b[0;34m.\u001b[0m\u001b[0mautograd\u001b[0m \u001b[0;32mimport\u001b[0m \u001b[0mVariable\u001b[0m\u001b[0;34m\u001b[0m\u001b[0m\n",
      "\u001b[0;31mImportError\u001b[0m: No module named torch"
     ]
    }
   ],
   "source": [
    "import torch\n",
    "import torch.nn as nn\n",
    "import torch.nn.Functional as F\n",
    "import torch.optim as optim\n",
    "from torch.autograd import Variable\n",
    "\n",
    "class NeuralNet(nn.Module):\n",
    "    def __init__(self):\n",
    "        super(NN,self).__init__()\n",
    "        \n",
    "        self.dense1 = Linear(2,2)\n",
    "        self.dense2 = Linear(2,1)\n",
    "        \n",
    "        print(self.dense1.weight)\n",
    "        print(self.dense1.bias)\n",
    "        print(self.dense2.weight)\n",
    "        print(self.dense2.bias)\n",
    "        \n",
    "        def forward_pass(self, x):\n",
    "            x = F.sigmoid(self.dense1(x))\n",
    "            x = self.dense2(x)\n",
    "            \n",
    "            return torch.squeeze(x)\n",
    "        \n",
    "\n",
    "model = NeuralNet()\n",
    "optimizer = optim.SGD(model.parameters(), lr=0.01)"
   ]
  }
 ],
 "metadata": {
  "kernelspec": {
   "display_name": "Python 3",
   "language": "python",
   "name": "python3"
  },
  "language_info": {
   "codemirror_mode": {
    "name": "ipython",
    "version": 2
   },
   "file_extension": ".py",
   "mimetype": "text/x-python",
   "name": "python",
   "nbconvert_exporter": "python",
   "pygments_lexer": "ipython2",
   "version": "2.7.15rc1"
  }
 },
 "nbformat": 4,
 "nbformat_minor": 2
}

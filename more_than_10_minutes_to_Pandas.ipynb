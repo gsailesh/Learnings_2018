{
 "cells": [
  {
   "cell_type": "code",
   "execution_count": 1,
   "metadata": {},
   "outputs": [],
   "source": [
    "import pandas as pd\n",
    "import numpy as np\n",
    "import matplotlib.pyplot as plt"
   ]
  },
  {
   "cell_type": "markdown",
   "metadata": {},
   "source": [
    "# Create"
   ]
  },
  {
   "cell_type": "code",
   "execution_count": 3,
   "metadata": {},
   "outputs": [
    {
     "name": "stdout",
     "output_type": "stream",
     "text": [
      "0    1.0\n",
      "1    3.0\n",
      "2    5.0\n",
      "3    NaN\n",
      "4    6.0\n",
      "5    8.0\n",
      "dtype: float64\n"
     ]
    }
   ],
   "source": [
    "series_var = pd.Series([1,3,5,np.nan,6,8])\n",
    "print(series_var)"
   ]
  },
  {
   "cell_type": "code",
   "execution_count": 5,
   "metadata": {},
   "outputs": [
    {
     "name": "stdout",
     "output_type": "stream",
     "text": [
      "DatetimeIndex(['2018-08-01', '2018-08-02', '2018-08-03', '2018-08-04',\n",
      "               '2018-08-05', '2018-08-06', '2018-08-07', '2018-08-08',\n",
      "               '2018-08-09', '2018-08-10'],\n",
      "              dtype='datetime64[ns]', freq='D')\n"
     ]
    }
   ],
   "source": [
    "dates = pd.date_range('20180801',periods=10)\n",
    "print(dates)"
   ]
  },
  {
   "cell_type": "code",
   "execution_count": 7,
   "metadata": {},
   "outputs": [
    {
     "data": {
      "text/html": [
       "<div>\n",
       "<style scoped>\n",
       "    .dataframe tbody tr th:only-of-type {\n",
       "        vertical-align: middle;\n",
       "    }\n",
       "\n",
       "    .dataframe tbody tr th {\n",
       "        vertical-align: top;\n",
       "    }\n",
       "\n",
       "    .dataframe thead th {\n",
       "        text-align: right;\n",
       "    }\n",
       "</style>\n",
       "<table border=\"1\" class=\"dataframe\">\n",
       "  <thead>\n",
       "    <tr style=\"text-align: right;\">\n",
       "      <th></th>\n",
       "      <th>v1</th>\n",
       "      <th>v2</th>\n",
       "      <th>v3</th>\n",
       "      <th>v4</th>\n",
       "      <th>v5</th>\n",
       "      <th>v6</th>\n",
       "    </tr>\n",
       "  </thead>\n",
       "  <tbody>\n",
       "    <tr>\n",
       "      <th>2018-08-01</th>\n",
       "      <td>0.216848</td>\n",
       "      <td>0.281554</td>\n",
       "      <td>-0.156930</td>\n",
       "      <td>-0.578780</td>\n",
       "      <td>-1.689995</td>\n",
       "      <td>-1.265830</td>\n",
       "    </tr>\n",
       "    <tr>\n",
       "      <th>2018-08-02</th>\n",
       "      <td>1.365604</td>\n",
       "      <td>-0.239468</td>\n",
       "      <td>-0.272141</td>\n",
       "      <td>0.371737</td>\n",
       "      <td>-1.756986</td>\n",
       "      <td>-0.722804</td>\n",
       "    </tr>\n",
       "    <tr>\n",
       "      <th>2018-08-03</th>\n",
       "      <td>0.534784</td>\n",
       "      <td>-0.847198</td>\n",
       "      <td>0.163824</td>\n",
       "      <td>0.219764</td>\n",
       "      <td>0.943967</td>\n",
       "      <td>0.351440</td>\n",
       "    </tr>\n",
       "    <tr>\n",
       "      <th>2018-08-04</th>\n",
       "      <td>0.023099</td>\n",
       "      <td>-1.300226</td>\n",
       "      <td>-0.681068</td>\n",
       "      <td>1.049650</td>\n",
       "      <td>2.096780</td>\n",
       "      <td>0.173361</td>\n",
       "    </tr>\n",
       "    <tr>\n",
       "      <th>2018-08-05</th>\n",
       "      <td>0.201207</td>\n",
       "      <td>1.857531</td>\n",
       "      <td>-0.908468</td>\n",
       "      <td>-0.049868</td>\n",
       "      <td>-1.229787</td>\n",
       "      <td>0.507861</td>\n",
       "    </tr>\n",
       "    <tr>\n",
       "      <th>2018-08-06</th>\n",
       "      <td>-0.312132</td>\n",
       "      <td>0.905072</td>\n",
       "      <td>-0.185002</td>\n",
       "      <td>-1.932770</td>\n",
       "      <td>0.904287</td>\n",
       "      <td>0.737704</td>\n",
       "    </tr>\n",
       "    <tr>\n",
       "      <th>2018-08-07</th>\n",
       "      <td>0.286606</td>\n",
       "      <td>-0.034927</td>\n",
       "      <td>-0.108043</td>\n",
       "      <td>-0.335718</td>\n",
       "      <td>-0.469233</td>\n",
       "      <td>0.652403</td>\n",
       "    </tr>\n",
       "    <tr>\n",
       "      <th>2018-08-08</th>\n",
       "      <td>-0.642749</td>\n",
       "      <td>-1.213402</td>\n",
       "      <td>0.128109</td>\n",
       "      <td>0.543778</td>\n",
       "      <td>-1.895347</td>\n",
       "      <td>0.533501</td>\n",
       "    </tr>\n",
       "    <tr>\n",
       "      <th>2018-08-09</th>\n",
       "      <td>0.444789</td>\n",
       "      <td>1.314447</td>\n",
       "      <td>2.367468</td>\n",
       "      <td>-1.909817</td>\n",
       "      <td>-0.482828</td>\n",
       "      <td>1.961512</td>\n",
       "    </tr>\n",
       "    <tr>\n",
       "      <th>2018-08-10</th>\n",
       "      <td>0.579995</td>\n",
       "      <td>1.367809</td>\n",
       "      <td>-0.941620</td>\n",
       "      <td>-0.666357</td>\n",
       "      <td>0.396444</td>\n",
       "      <td>-0.029800</td>\n",
       "    </tr>\n",
       "  </tbody>\n",
       "</table>\n",
       "</div>"
      ],
      "text/plain": [
       "                  v1        v2        v3        v4        v5        v6\n",
       "2018-08-01  0.216848  0.281554 -0.156930 -0.578780 -1.689995 -1.265830\n",
       "2018-08-02  1.365604 -0.239468 -0.272141  0.371737 -1.756986 -0.722804\n",
       "2018-08-03  0.534784 -0.847198  0.163824  0.219764  0.943967  0.351440\n",
       "2018-08-04  0.023099 -1.300226 -0.681068  1.049650  2.096780  0.173361\n",
       "2018-08-05  0.201207  1.857531 -0.908468 -0.049868 -1.229787  0.507861\n",
       "2018-08-06 -0.312132  0.905072 -0.185002 -1.932770  0.904287  0.737704\n",
       "2018-08-07  0.286606 -0.034927 -0.108043 -0.335718 -0.469233  0.652403\n",
       "2018-08-08 -0.642749 -1.213402  0.128109  0.543778 -1.895347  0.533501\n",
       "2018-08-09  0.444789  1.314447  2.367468 -1.909817 -0.482828  1.961512\n",
       "2018-08-10  0.579995  1.367809 -0.941620 -0.666357  0.396444 -0.029800"
      ]
     },
     "execution_count": 7,
     "metadata": {},
     "output_type": "execute_result"
    }
   ],
   "source": [
    "sample_dataframe = pd.DataFrame(np.random.randn(10,6),index=dates,columns=['v1','v2','v3','v4','v5','v6'])\n",
    "sample_dataframe"
   ]
  },
  {
   "cell_type": "code",
   "execution_count": 10,
   "metadata": {},
   "outputs": [
    {
     "data": {
      "text/html": [
       "<div>\n",
       "<style scoped>\n",
       "    .dataframe tbody tr th:only-of-type {\n",
       "        vertical-align: middle;\n",
       "    }\n",
       "\n",
       "    .dataframe tbody tr th {\n",
       "        vertical-align: top;\n",
       "    }\n",
       "\n",
       "    .dataframe thead th {\n",
       "        text-align: right;\n",
       "    }\n",
       "</style>\n",
       "<table border=\"1\" class=\"dataframe\">\n",
       "  <thead>\n",
       "    <tr style=\"text-align: right;\">\n",
       "      <th></th>\n",
       "      <th>c1</th>\n",
       "      <th>c2</th>\n",
       "      <th>c3</th>\n",
       "      <th>c4</th>\n",
       "      <th>c5</th>\n",
       "      <th>c6</th>\n",
       "    </tr>\n",
       "  </thead>\n",
       "  <tbody>\n",
       "    <tr>\n",
       "      <th>0</th>\n",
       "      <td>1.0</td>\n",
       "      <td>2018-08-01</td>\n",
       "      <td>1.0</td>\n",
       "      <td>3</td>\n",
       "      <td>hello</td>\n",
       "      <td>foo</td>\n",
       "    </tr>\n",
       "    <tr>\n",
       "      <th>1</th>\n",
       "      <td>1.0</td>\n",
       "      <td>2018-08-01</td>\n",
       "      <td>1.0</td>\n",
       "      <td>3</td>\n",
       "      <td>zepp</td>\n",
       "      <td>foo</td>\n",
       "    </tr>\n",
       "    <tr>\n",
       "      <th>2</th>\n",
       "      <td>1.0</td>\n",
       "      <td>2018-08-01</td>\n",
       "      <td>1.0</td>\n",
       "      <td>3</td>\n",
       "      <td>I want to play a game!</td>\n",
       "      <td>foo</td>\n",
       "    </tr>\n",
       "    <tr>\n",
       "      <th>3</th>\n",
       "      <td>1.0</td>\n",
       "      <td>2018-08-01</td>\n",
       "      <td>1.0</td>\n",
       "      <td>3</td>\n",
       "      <td>Rules are rules!</td>\n",
       "      <td>foo</td>\n",
       "    </tr>\n",
       "  </tbody>\n",
       "</table>\n",
       "</div>"
      ],
      "text/plain": [
       "    c1         c2   c3  c4                      c5   c6\n",
       "0  1.0 2018-08-01  1.0   3                   hello  foo\n",
       "1  1.0 2018-08-01  1.0   3                    zepp  foo\n",
       "2  1.0 2018-08-01  1.0   3  I want to play a game!  foo\n",
       "3  1.0 2018-08-01  1.0   3        Rules are rules!  foo"
      ]
     },
     "execution_count": 10,
     "metadata": {},
     "output_type": "execute_result"
    }
   ],
   "source": [
    "sample_dataframe_from_dict = pd.DataFrame({\n",
    "    'c1':1.,\n",
    "    'c2':pd.Timestamp('20180801'),\n",
    "    'c3':pd.Series(1,index=list(range(4)),dtype='float64'),\n",
    "    'c4':np.array([3]*4, dtype='int64'),\n",
    "    'c5':pd.Categorical(['hello','zepp','I want to play a game!','Rules are rules!']),\n",
    "    'c6':'foo'\n",
    "})\n",
    "\n",
    "sample_dataframe_from_dict"
   ]
  },
  {
   "cell_type": "code",
   "execution_count": 11,
   "metadata": {},
   "outputs": [
    {
     "name": "stdout",
     "output_type": "stream",
     "text": [
      "c1           float64\n",
      "c2    datetime64[ns]\n",
      "c3           float64\n",
      "c4             int64\n",
      "c5          category\n",
      "c6            object\n",
      "dtype: object\n"
     ]
    }
   ],
   "source": [
    "print(sample_dataframe_from_dict.dtypes)"
   ]
  },
  {
   "cell_type": "markdown",
   "metadata": {},
   "source": [
    "# View"
   ]
  },
  {
   "cell_type": "code",
   "execution_count": 13,
   "metadata": {},
   "outputs": [
    {
     "data": {
      "text/html": [
       "<div>\n",
       "<style scoped>\n",
       "    .dataframe tbody tr th:only-of-type {\n",
       "        vertical-align: middle;\n",
       "    }\n",
       "\n",
       "    .dataframe tbody tr th {\n",
       "        vertical-align: top;\n",
       "    }\n",
       "\n",
       "    .dataframe thead th {\n",
       "        text-align: right;\n",
       "    }\n",
       "</style>\n",
       "<table border=\"1\" class=\"dataframe\">\n",
       "  <thead>\n",
       "    <tr style=\"text-align: right;\">\n",
       "      <th></th>\n",
       "      <th>v1</th>\n",
       "      <th>v2</th>\n",
       "      <th>v3</th>\n",
       "      <th>v4</th>\n",
       "      <th>v5</th>\n",
       "      <th>v6</th>\n",
       "    </tr>\n",
       "  </thead>\n",
       "  <tbody>\n",
       "    <tr>\n",
       "      <th>2018-08-01</th>\n",
       "      <td>0.216848</td>\n",
       "      <td>0.281554</td>\n",
       "      <td>-0.156930</td>\n",
       "      <td>-0.578780</td>\n",
       "      <td>-1.689995</td>\n",
       "      <td>-1.265830</td>\n",
       "    </tr>\n",
       "    <tr>\n",
       "      <th>2018-08-02</th>\n",
       "      <td>1.365604</td>\n",
       "      <td>-0.239468</td>\n",
       "      <td>-0.272141</td>\n",
       "      <td>0.371737</td>\n",
       "      <td>-1.756986</td>\n",
       "      <td>-0.722804</td>\n",
       "    </tr>\n",
       "    <tr>\n",
       "      <th>2018-08-03</th>\n",
       "      <td>0.534784</td>\n",
       "      <td>-0.847198</td>\n",
       "      <td>0.163824</td>\n",
       "      <td>0.219764</td>\n",
       "      <td>0.943967</td>\n",
       "      <td>0.351440</td>\n",
       "    </tr>\n",
       "    <tr>\n",
       "      <th>2018-08-04</th>\n",
       "      <td>0.023099</td>\n",
       "      <td>-1.300226</td>\n",
       "      <td>-0.681068</td>\n",
       "      <td>1.049650</td>\n",
       "      <td>2.096780</td>\n",
       "      <td>0.173361</td>\n",
       "    </tr>\n",
       "    <tr>\n",
       "      <th>2018-08-05</th>\n",
       "      <td>0.201207</td>\n",
       "      <td>1.857531</td>\n",
       "      <td>-0.908468</td>\n",
       "      <td>-0.049868</td>\n",
       "      <td>-1.229787</td>\n",
       "      <td>0.507861</td>\n",
       "    </tr>\n",
       "  </tbody>\n",
       "</table>\n",
       "</div>"
      ],
      "text/plain": [
       "                  v1        v2        v3        v4        v5        v6\n",
       "2018-08-01  0.216848  0.281554 -0.156930 -0.578780 -1.689995 -1.265830\n",
       "2018-08-02  1.365604 -0.239468 -0.272141  0.371737 -1.756986 -0.722804\n",
       "2018-08-03  0.534784 -0.847198  0.163824  0.219764  0.943967  0.351440\n",
       "2018-08-04  0.023099 -1.300226 -0.681068  1.049650  2.096780  0.173361\n",
       "2018-08-05  0.201207  1.857531 -0.908468 -0.049868 -1.229787  0.507861"
      ]
     },
     "execution_count": 13,
     "metadata": {},
     "output_type": "execute_result"
    }
   ],
   "source": [
    "sample_dataframe.head()"
   ]
  },
  {
   "cell_type": "code",
   "execution_count": 14,
   "metadata": {},
   "outputs": [
    {
     "data": {
      "text/html": [
       "<div>\n",
       "<style scoped>\n",
       "    .dataframe tbody tr th:only-of-type {\n",
       "        vertical-align: middle;\n",
       "    }\n",
       "\n",
       "    .dataframe tbody tr th {\n",
       "        vertical-align: top;\n",
       "    }\n",
       "\n",
       "    .dataframe thead th {\n",
       "        text-align: right;\n",
       "    }\n",
       "</style>\n",
       "<table border=\"1\" class=\"dataframe\">\n",
       "  <thead>\n",
       "    <tr style=\"text-align: right;\">\n",
       "      <th></th>\n",
       "      <th>c1</th>\n",
       "      <th>c2</th>\n",
       "      <th>c3</th>\n",
       "      <th>c4</th>\n",
       "      <th>c5</th>\n",
       "      <th>c6</th>\n",
       "    </tr>\n",
       "  </thead>\n",
       "  <tbody>\n",
       "    <tr>\n",
       "      <th>1</th>\n",
       "      <td>1.0</td>\n",
       "      <td>2018-08-01</td>\n",
       "      <td>1.0</td>\n",
       "      <td>3</td>\n",
       "      <td>zepp</td>\n",
       "      <td>foo</td>\n",
       "    </tr>\n",
       "    <tr>\n",
       "      <th>2</th>\n",
       "      <td>1.0</td>\n",
       "      <td>2018-08-01</td>\n",
       "      <td>1.0</td>\n",
       "      <td>3</td>\n",
       "      <td>I want to play a game!</td>\n",
       "      <td>foo</td>\n",
       "    </tr>\n",
       "    <tr>\n",
       "      <th>3</th>\n",
       "      <td>1.0</td>\n",
       "      <td>2018-08-01</td>\n",
       "      <td>1.0</td>\n",
       "      <td>3</td>\n",
       "      <td>Rules are rules!</td>\n",
       "      <td>foo</td>\n",
       "    </tr>\n",
       "  </tbody>\n",
       "</table>\n",
       "</div>"
      ],
      "text/plain": [
       "    c1         c2   c3  c4                      c5   c6\n",
       "1  1.0 2018-08-01  1.0   3                    zepp  foo\n",
       "2  1.0 2018-08-01  1.0   3  I want to play a game!  foo\n",
       "3  1.0 2018-08-01  1.0   3        Rules are rules!  foo"
      ]
     },
     "execution_count": 14,
     "metadata": {},
     "output_type": "execute_result"
    }
   ],
   "source": [
    "sample_dataframe_from_dict.tail(3)"
   ]
  },
  {
   "cell_type": "code",
   "execution_count": 23,
   "metadata": {},
   "outputs": [
    {
     "name": "stdout",
     "output_type": "stream",
     "text": [
      "('--------------------------------------------------', 'Index', '--------------------------------------------------')\n",
      "DatetimeIndex(['2018-08-01', '2018-08-02', '2018-08-03', '2018-08-04',\n",
      "               '2018-08-05', '2018-08-06', '2018-08-07', '2018-08-08',\n",
      "               '2018-08-09', '2018-08-10'],\n",
      "              dtype='datetime64[ns]', freq='D')\n",
      "('--------------------------------------------------', 'Describe', '--------------------------------------------------')\n",
      "              v6         v5         v4         v3         v2         v1\n",
      "count  10.000000  10.000000  10.000000  10.000000  10.000000  10.000000\n",
      "mean    0.289935  -0.318270  -0.328838  -0.059387   0.209119   0.269805\n",
      "std     0.869132   1.364250   0.987691   0.938870   1.127901   0.541386\n",
      "min    -1.265830  -1.895347  -1.932770  -0.941620  -1.300226  -0.642749\n",
      "25%     0.020990  -1.574943  -0.644463  -0.578837  -0.695265   0.067626\n",
      "50%     0.429650  -0.476030  -0.192793  -0.170966   0.123314   0.251727\n",
      "75%     0.622677   0.777326   0.333744   0.069071   1.212103   0.512285\n",
      "max     1.961512   2.096780   1.049650   2.367468   1.857531   1.365604\n",
      "('--------------------------------------------------', 'Transponse', '--------------------------------------------------')\n",
      "    2018-08-01  2018-08-02  2018-08-03  2018-08-04  2018-08-05  2018-08-06  \\\n",
      "v6   -1.265830   -0.722804    0.351440    0.173361    0.507861    0.737704   \n",
      "v5   -1.689995   -1.756986    0.943967    2.096780   -1.229787    0.904287   \n",
      "v4   -0.578780    0.371737    0.219764    1.049650   -0.049868   -1.932770   \n",
      "v3   -0.156930   -0.272141    0.163824   -0.681068   -0.908468   -0.185002   \n",
      "v2    0.281554   -0.239468   -0.847198   -1.300226    1.857531    0.905072   \n",
      "v1    0.216848    1.365604    0.534784    0.023099    0.201207   -0.312132   \n",
      "\n",
      "    2018-08-07  2018-08-08  2018-08-09  2018-08-10  \n",
      "v6    0.652403    0.533501    1.961512   -0.029800  \n",
      "v5   -0.469233   -1.895347   -0.482828    0.396444  \n",
      "v4   -0.335718    0.543778   -1.909817   -0.666357  \n",
      "v3   -0.108043    0.128109    2.367468   -0.941620  \n",
      "v2   -0.034927   -1.213402    1.314447    1.367809  \n",
      "v1    0.286606   -0.642749    0.444789    0.579995  \n",
      "----------------------------------------------------------------------------------------------------\n"
     ]
    }
   ],
   "source": [
    "print('-'*50,'Index','-'*50)\n",
    "print(sample_dataframe.index)\n",
    "print('-'*50,'Describe','-'*50)\n",
    "print(sample_dataframe.describe())\n",
    "print('-'*50,'Transponse','-'*50)\n",
    "print(sample_dataframe.T)\n",
    "print('-'*100)"
   ]
  },
  {
   "cell_type": "code",
   "execution_count": 28,
   "metadata": {},
   "outputs": [
    {
     "name": "stdout",
     "output_type": "stream",
     "text": [
      "('--------------------------------------------------', 'Sort by Index', '--------------------------------------------------')\n",
      "                  v6        v5        v4        v3        v2        v1\n",
      "2018-08-01 -1.265830 -1.689995 -0.578780 -0.156930  0.281554  0.216848\n",
      "2018-08-02 -0.722804 -1.756986  0.371737 -0.272141 -0.239468  1.365604\n",
      "2018-08-03  0.351440  0.943967  0.219764  0.163824 -0.847198  0.534784\n",
      "2018-08-04  0.173361  2.096780  1.049650 -0.681068 -1.300226  0.023099\n",
      "2018-08-05  0.507861 -1.229787 -0.049868 -0.908468  1.857531  0.201207\n",
      "2018-08-06  0.737704  0.904287 -1.932770 -0.185002  0.905072 -0.312132\n",
      "2018-08-07  0.652403 -0.469233 -0.335718 -0.108043 -0.034927  0.286606\n",
      "2018-08-08  0.533501 -1.895347  0.543778  0.128109 -1.213402 -0.642749\n",
      "2018-08-09  1.961512 -0.482828 -1.909817  2.367468  1.314447  0.444789\n",
      "2018-08-10 -0.029800  0.396444 -0.666357 -0.941620  1.367809  0.579995\n",
      "('--------------------------------------------------', 'Sort by Value', '--------------------------------------------------')\n",
      "                  v6        v5        v4        v3        v2        v1\n",
      "2018-08-10 -0.029800  0.396444 -0.666357 -0.941620  1.367809  0.579995\n",
      "2018-08-05  0.507861 -1.229787 -0.049868 -0.908468  1.857531  0.201207\n",
      "2018-08-04  0.173361  2.096780  1.049650 -0.681068 -1.300226  0.023099\n",
      "2018-08-02 -0.722804 -1.756986  0.371737 -0.272141 -0.239468  1.365604\n",
      "2018-08-06  0.737704  0.904287 -1.932770 -0.185002  0.905072 -0.312132\n",
      "2018-08-01 -1.265830 -1.689995 -0.578780 -0.156930  0.281554  0.216848\n",
      "2018-08-07  0.652403 -0.469233 -0.335718 -0.108043 -0.034927  0.286606\n",
      "2018-08-08  0.533501 -1.895347  0.543778  0.128109 -1.213402 -0.642749\n",
      "2018-08-03  0.351440  0.943967  0.219764  0.163824 -0.847198  0.534784\n",
      "2018-08-09  1.961512 -0.482828 -1.909817  2.367468  1.314447  0.444789\n"
     ]
    }
   ],
   "source": [
    "print('-'*50,'Sort by Index','-'*50)\n",
    "# axis=0 row index | axis = 1 col index\n",
    "\n",
    "print(sample_dataframe.sort_index(axis=1,ascending=False))\n",
    "\n",
    "print('-'*50,'Sort by Value','-'*50)\n",
    "print(sample_dataframe.sort_values(by='v3'))\n"
   ]
  },
  {
   "cell_type": "markdown",
   "metadata": {},
   "source": [
    "# Selection"
   ]
  },
  {
   "cell_type": "code",
   "execution_count": 29,
   "metadata": {},
   "outputs": [
    {
     "data": {
      "text/plain": [
       "0   2018-08-01\n",
       "1   2018-08-01\n",
       "2   2018-08-01\n",
       "3   2018-08-01\n",
       "Name: c2, dtype: datetime64[ns]"
      ]
     },
     "execution_count": 29,
     "metadata": {},
     "output_type": "execute_result"
    }
   ],
   "source": [
    "#select by column name\n",
    "sample_dataframe_from_dict['c2']"
   ]
  },
  {
   "cell_type": "code",
   "execution_count": 30,
   "metadata": {},
   "outputs": [
    {
     "data": {
      "text/html": [
       "<div>\n",
       "<style scoped>\n",
       "    .dataframe tbody tr th:only-of-type {\n",
       "        vertical-align: middle;\n",
       "    }\n",
       "\n",
       "    .dataframe tbody tr th {\n",
       "        vertical-align: top;\n",
       "    }\n",
       "\n",
       "    .dataframe thead th {\n",
       "        text-align: right;\n",
       "    }\n",
       "</style>\n",
       "<table border=\"1\" class=\"dataframe\">\n",
       "  <thead>\n",
       "    <tr style=\"text-align: right;\">\n",
       "      <th></th>\n",
       "      <th>c1</th>\n",
       "      <th>c2</th>\n",
       "      <th>c3</th>\n",
       "      <th>c4</th>\n",
       "      <th>c5</th>\n",
       "      <th>c6</th>\n",
       "    </tr>\n",
       "  </thead>\n",
       "  <tbody>\n",
       "    <tr>\n",
       "      <th>0</th>\n",
       "      <td>1.0</td>\n",
       "      <td>2018-08-01</td>\n",
       "      <td>1.0</td>\n",
       "      <td>3</td>\n",
       "      <td>hello</td>\n",
       "      <td>foo</td>\n",
       "    </tr>\n",
       "    <tr>\n",
       "      <th>1</th>\n",
       "      <td>1.0</td>\n",
       "      <td>2018-08-01</td>\n",
       "      <td>1.0</td>\n",
       "      <td>3</td>\n",
       "      <td>zepp</td>\n",
       "      <td>foo</td>\n",
       "    </tr>\n",
       "  </tbody>\n",
       "</table>\n",
       "</div>"
      ],
      "text/plain": [
       "    c1         c2   c3  c4     c5   c6\n",
       "0  1.0 2018-08-01  1.0   3  hello  foo\n",
       "1  1.0 2018-08-01  1.0   3   zepp  foo"
      ]
     },
     "execution_count": 30,
     "metadata": {},
     "output_type": "execute_result"
    }
   ],
   "source": [
    "#select by slicing rows\n",
    "sample_dataframe_from_dict[0:2]"
   ]
  },
  {
   "cell_type": "code",
   "execution_count": 31,
   "metadata": {},
   "outputs": [
    {
     "data": {
      "text/plain": [
       "v1    0.216848\n",
       "v5   -1.689995\n",
       "Name: 2018-08-01 00:00:00, dtype: float64"
      ]
     },
     "execution_count": 31,
     "metadata": {},
     "output_type": "execute_result"
    }
   ],
   "source": [
    "#cross-select by label\n",
    "sample_dataframe.loc[dates[0],['v1','v5']]"
   ]
  },
  {
   "cell_type": "code",
   "execution_count": 32,
   "metadata": {},
   "outputs": [
    {
     "data": {
      "text/html": [
       "<div>\n",
       "<style scoped>\n",
       "    .dataframe tbody tr th:only-of-type {\n",
       "        vertical-align: middle;\n",
       "    }\n",
       "\n",
       "    .dataframe tbody tr th {\n",
       "        vertical-align: top;\n",
       "    }\n",
       "\n",
       "    .dataframe thead th {\n",
       "        text-align: right;\n",
       "    }\n",
       "</style>\n",
       "<table border=\"1\" class=\"dataframe\">\n",
       "  <thead>\n",
       "    <tr style=\"text-align: right;\">\n",
       "      <th></th>\n",
       "      <th>v4</th>\n",
       "      <th>v3</th>\n",
       "    </tr>\n",
       "  </thead>\n",
       "  <tbody>\n",
       "    <tr>\n",
       "      <th>2018-08-02</th>\n",
       "      <td>0.371737</td>\n",
       "      <td>-0.272141</td>\n",
       "    </tr>\n",
       "    <tr>\n",
       "      <th>2018-08-03</th>\n",
       "      <td>0.219764</td>\n",
       "      <td>0.163824</td>\n",
       "    </tr>\n",
       "  </tbody>\n",
       "</table>\n",
       "</div>"
      ],
      "text/plain": [
       "                  v4        v3\n",
       "2018-08-02  0.371737 -0.272141\n",
       "2018-08-03  0.219764  0.163824"
      ]
     },
     "execution_count": 32,
     "metadata": {},
     "output_type": "execute_result"
    }
   ],
   "source": [
    "#cross-select by position -- use slicing/list of positions\n",
    "sample_dataframe.iloc[1:3,2:4]"
   ]
  },
  {
   "cell_type": "code",
   "execution_count": 34,
   "metadata": {},
   "outputs": [
    {
     "data": {
      "text/html": [
       "<div>\n",
       "<style scoped>\n",
       "    .dataframe tbody tr th:only-of-type {\n",
       "        vertical-align: middle;\n",
       "    }\n",
       "\n",
       "    .dataframe tbody tr th {\n",
       "        vertical-align: top;\n",
       "    }\n",
       "\n",
       "    .dataframe thead th {\n",
       "        text-align: right;\n",
       "    }\n",
       "</style>\n",
       "<table border=\"1\" class=\"dataframe\">\n",
       "  <thead>\n",
       "    <tr style=\"text-align: right;\">\n",
       "      <th></th>\n",
       "      <th>v6</th>\n",
       "      <th>v5</th>\n",
       "      <th>v4</th>\n",
       "      <th>v3</th>\n",
       "      <th>v2</th>\n",
       "      <th>v1</th>\n",
       "    </tr>\n",
       "  </thead>\n",
       "  <tbody>\n",
       "    <tr>\n",
       "      <th>2018-08-02</th>\n",
       "      <td>-0.722804</td>\n",
       "      <td>-1.756986</td>\n",
       "      <td>0.371737</td>\n",
       "      <td>-0.272141</td>\n",
       "      <td>-0.239468</td>\n",
       "      <td>1.365604</td>\n",
       "    </tr>\n",
       "    <tr>\n",
       "      <th>2018-08-03</th>\n",
       "      <td>0.351440</td>\n",
       "      <td>0.943967</td>\n",
       "      <td>0.219764</td>\n",
       "      <td>0.163824</td>\n",
       "      <td>-0.847198</td>\n",
       "      <td>0.534784</td>\n",
       "    </tr>\n",
       "    <tr>\n",
       "      <th>2018-08-10</th>\n",
       "      <td>-0.029800</td>\n",
       "      <td>0.396444</td>\n",
       "      <td>-0.666357</td>\n",
       "      <td>-0.941620</td>\n",
       "      <td>1.367809</td>\n",
       "      <td>0.579995</td>\n",
       "    </tr>\n",
       "  </tbody>\n",
       "</table>\n",
       "</div>"
      ],
      "text/plain": [
       "                  v6        v5        v4        v3        v2        v1\n",
       "2018-08-02 -0.722804 -1.756986  0.371737 -0.272141 -0.239468  1.365604\n",
       "2018-08-03  0.351440  0.943967  0.219764  0.163824 -0.847198  0.534784\n",
       "2018-08-10 -0.029800  0.396444 -0.666357 -0.941620  1.367809  0.579995"
      ]
     },
     "execution_count": 34,
     "metadata": {},
     "output_type": "execute_result"
    }
   ],
   "source": [
    "#boolean indexing based selection\n",
    "sample_dataframe[sample_dataframe.v1 > 0.5] # filters rows where v1 > 0.5"
   ]
  },
  {
   "cell_type": "code",
   "execution_count": 37,
   "metadata": {},
   "outputs": [
    {
     "data": {
      "text/html": [
       "<div>\n",
       "<style scoped>\n",
       "    .dataframe tbody tr th:only-of-type {\n",
       "        vertical-align: middle;\n",
       "    }\n",
       "\n",
       "    .dataframe tbody tr th {\n",
       "        vertical-align: top;\n",
       "    }\n",
       "\n",
       "    .dataframe thead th {\n",
       "        text-align: right;\n",
       "    }\n",
       "</style>\n",
       "<table border=\"1\" class=\"dataframe\">\n",
       "  <thead>\n",
       "    <tr style=\"text-align: right;\">\n",
       "      <th></th>\n",
       "      <th>c1</th>\n",
       "      <th>c2</th>\n",
       "      <th>c3</th>\n",
       "      <th>c4</th>\n",
       "      <th>c5</th>\n",
       "      <th>c6</th>\n",
       "    </tr>\n",
       "  </thead>\n",
       "  <tbody>\n",
       "    <tr>\n",
       "      <th>1</th>\n",
       "      <td>1.0</td>\n",
       "      <td>2018-08-01</td>\n",
       "      <td>1.0</td>\n",
       "      <td>3</td>\n",
       "      <td>zepp</td>\n",
       "      <td>foo</td>\n",
       "    </tr>\n",
       "  </tbody>\n",
       "</table>\n",
       "</div>"
      ],
      "text/plain": [
       "    c1         c2   c3  c4    c5   c6\n",
       "1  1.0 2018-08-01  1.0   3  zepp  foo"
      ]
     },
     "execution_count": 37,
     "metadata": {},
     "output_type": "execute_result"
    }
   ],
   "source": [
    "# filter using 'isin'\n",
    "sample_dataframe_from_dict[sample_dataframe_from_dict.c5.isin(['zepp'])]"
   ]
  },
  {
   "cell_type": "markdown",
   "metadata": {},
   "source": [
    "# Handling missing data"
   ]
  },
  {
   "cell_type": "code",
   "execution_count": 40,
   "metadata": {},
   "outputs": [
    {
     "data": {
      "text/html": [
       "<div>\n",
       "<style scoped>\n",
       "    .dataframe tbody tr th:only-of-type {\n",
       "        vertical-align: middle;\n",
       "    }\n",
       "\n",
       "    .dataframe tbody tr th {\n",
       "        vertical-align: top;\n",
       "    }\n",
       "\n",
       "    .dataframe thead th {\n",
       "        text-align: right;\n",
       "    }\n",
       "</style>\n",
       "<table border=\"1\" class=\"dataframe\">\n",
       "  <thead>\n",
       "    <tr style=\"text-align: right;\">\n",
       "      <th></th>\n",
       "      <th>v6</th>\n",
       "      <th>v5</th>\n",
       "      <th>v4</th>\n",
       "      <th>v3</th>\n",
       "      <th>v2</th>\n",
       "      <th>v1</th>\n",
       "      <th>x0</th>\n",
       "      <th>x1</th>\n",
       "    </tr>\n",
       "  </thead>\n",
       "  <tbody>\n",
       "    <tr>\n",
       "      <th>2018-08-02</th>\n",
       "      <td>-0.722804</td>\n",
       "      <td>-1.756986</td>\n",
       "      <td>0.371737</td>\n",
       "      <td>-0.272141</td>\n",
       "      <td>-0.239468</td>\n",
       "      <td>1.365604</td>\n",
       "      <td>NaN</td>\n",
       "      <td>NaN</td>\n",
       "    </tr>\n",
       "  </tbody>\n",
       "</table>\n",
       "</div>"
      ],
      "text/plain": [
       "                  v6        v5        v4        v3        v2        v1  x0  x1\n",
       "2018-08-02 -0.722804 -1.756986  0.371737 -0.272141 -0.239468  1.365604 NaN NaN"
      ]
     },
     "execution_count": 40,
     "metadata": {},
     "output_type": "execute_result"
    }
   ],
   "source": [
    "#reindex lets reorganizing dataframe and returns a copy of it\n",
    "sample_dataframe_copy = sample_dataframe.reindex(index=dates[1:2],columns=list(sample_dataframe.columns)+['x0','x1'])\n",
    "sample_dataframe_copy"
   ]
  },
  {
   "cell_type": "code",
   "execution_count": 45,
   "metadata": {},
   "outputs": [
    {
     "data": {
      "text/html": [
       "<div>\n",
       "<style scoped>\n",
       "    .dataframe tbody tr th:only-of-type {\n",
       "        vertical-align: middle;\n",
       "    }\n",
       "\n",
       "    .dataframe tbody tr th {\n",
       "        vertical-align: top;\n",
       "    }\n",
       "\n",
       "    .dataframe thead th {\n",
       "        text-align: right;\n",
       "    }\n",
       "</style>\n",
       "<table border=\"1\" class=\"dataframe\">\n",
       "  <thead>\n",
       "    <tr style=\"text-align: right;\">\n",
       "      <th></th>\n",
       "      <th>v6</th>\n",
       "      <th>v5</th>\n",
       "      <th>v4</th>\n",
       "      <th>v3</th>\n",
       "      <th>v2</th>\n",
       "      <th>v1</th>\n",
       "      <th>x0</th>\n",
       "      <th>x1</th>\n",
       "    </tr>\n",
       "  </thead>\n",
       "  <tbody>\n",
       "    <tr>\n",
       "      <th>2018-08-02</th>\n",
       "      <td>-0.722804</td>\n",
       "      <td>-1.756986</td>\n",
       "      <td>0.371737</td>\n",
       "      <td>-0.272141</td>\n",
       "      <td>-0.239468</td>\n",
       "      <td>1.365604</td>\n",
       "      <td>NaN</td>\n",
       "      <td>2.21</td>\n",
       "    </tr>\n",
       "  </tbody>\n",
       "</table>\n",
       "</div>"
      ],
      "text/plain": [
       "                  v6        v5        v4        v3        v2        v1  x0  \\\n",
       "2018-08-02 -0.722804 -1.756986  0.371737 -0.272141 -0.239468  1.365604 NaN   \n",
       "\n",
       "              x1  \n",
       "2018-08-02  2.21  "
      ]
     },
     "execution_count": 45,
     "metadata": {},
     "output_type": "execute_result"
    }
   ],
   "source": [
    "sample_dataframe_copy.iloc[0:1,[len(sample_dataframe_copy.columns)-1]] = 2.21\n",
    "sample_dataframe_copy"
   ]
  },
  {
   "cell_type": "code",
   "execution_count": 48,
   "metadata": {},
   "outputs": [
    {
     "data": {
      "text/html": [
       "<div>\n",
       "<style scoped>\n",
       "    .dataframe tbody tr th:only-of-type {\n",
       "        vertical-align: middle;\n",
       "    }\n",
       "\n",
       "    .dataframe tbody tr th {\n",
       "        vertical-align: top;\n",
       "    }\n",
       "\n",
       "    .dataframe thead th {\n",
       "        text-align: right;\n",
       "    }\n",
       "</style>\n",
       "<table border=\"1\" class=\"dataframe\">\n",
       "  <thead>\n",
       "    <tr style=\"text-align: right;\">\n",
       "      <th></th>\n",
       "      <th>v6</th>\n",
       "      <th>v5</th>\n",
       "      <th>v4</th>\n",
       "      <th>v3</th>\n",
       "      <th>v2</th>\n",
       "      <th>v1</th>\n",
       "      <th>x0</th>\n",
       "      <th>x1</th>\n",
       "    </tr>\n",
       "  </thead>\n",
       "  <tbody>\n",
       "    <tr>\n",
       "      <th>2018-08-02</th>\n",
       "      <td>-0.722804</td>\n",
       "      <td>-1.756986</td>\n",
       "      <td>0.371737</td>\n",
       "      <td>-0.272141</td>\n",
       "      <td>-0.239468</td>\n",
       "      <td>1.365604</td>\n",
       "      <td>NaN</td>\n",
       "      <td>2.21</td>\n",
       "    </tr>\n",
       "  </tbody>\n",
       "</table>\n",
       "</div>"
      ],
      "text/plain": [
       "                  v6        v5        v4        v3        v2        v1  x0  \\\n",
       "2018-08-02 -0.722804 -1.756986  0.371737 -0.272141 -0.239468  1.365604 NaN   \n",
       "\n",
       "              x1  \n",
       "2018-08-02  2.21  "
      ]
     },
     "execution_count": 48,
     "metadata": {},
     "output_type": "execute_result"
    }
   ],
   "source": [
    "sample_dataframe_copy.dropna(axis=1,how='any')\n",
    "sample_dataframe_copy # nothing gets removed ?"
   ]
  },
  {
   "cell_type": "markdown",
   "metadata": {},
   "source": [
    "# Operations"
   ]
  },
  {
   "cell_type": "code",
   "execution_count": null,
   "metadata": {},
   "outputs": [],
   "source": [
    "# apply"
   ]
  }
 ],
 "metadata": {
  "kernelspec": {
   "display_name": "Python 3",
   "language": "python",
   "name": "python3"
  },
  "language_info": {
   "codemirror_mode": {
    "name": "ipython",
    "version": 2
   },
   "file_extension": ".py",
   "mimetype": "text/x-python",
   "name": "python",
   "nbconvert_exporter": "python",
   "pygments_lexer": "ipython2",
   "version": "2.7.15rc1"
  }
 },
 "nbformat": 4,
 "nbformat_minor": 2
}

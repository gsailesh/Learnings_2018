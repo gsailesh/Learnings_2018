{
 "cells": [
  {
   "cell_type": "code",
   "execution_count": 1,
   "metadata": {},
   "outputs": [
    {
     "name": "stderr",
     "output_type": "stream",
     "text": [
      "Using TensorFlow backend.\n"
     ]
    }
   ],
   "source": [
    "import os\n",
    "import numpy as np\n",
    "\n",
    "from keras.preprocessing.text import Tokenizer\n",
    "from keras.preprocessing.sequence import pad_sequences\n",
    "from keras.models import Sequential\n",
    "from keras.layers import Embedding, Dense, Flatten\n",
    "\n",
    "import matplotlib.pyplot as plt"
   ]
  },
  {
   "cell_type": "markdown",
   "metadata": {},
   "source": [
    "### Reading the data\n",
    "\n",
    "* Source: `http://ai.stanford.edu/~amaas/data/sentiment/`\n",
    "* Reading the data from `train` folder\n",
    "* The data has been segregated into `pos` and `neg` folders (only these two folders are considered here!)\n",
    "* The data to be read are `.txt` files\n",
    "* Data read from each `.txt` file is appended to a list `texts` and the corresponding label is appended to `labels` list in the same order"
   ]
  },
  {
   "cell_type": "code",
   "execution_count": 10,
   "metadata": {},
   "outputs": [
    {
     "name": "stdout",
     "output_type": "stream",
     "text": [
      "Successfully read 25000 texts from training data!\n",
      "Successfully read 25000 texts from testing data!\n",
      "\n",
      "\n",
      "Sample raw text from the data: \n",
      "\n",
      "I love this movie and never get tired of watching. The music in it is great. Any true hard rock fan should see this movie and buy the soundtrack. With rockers like Gene Simmons and Ozzy Osbourne you can't go wrong.\n"
     ]
    }
   ],
   "source": [
    "# Source: http://ai.stanford.edu/~amaas/data/sentiment/\n",
    "\n",
    "imdb_path = os.getcwd() + '/data/aclImdb_v1/aclImdb'\n",
    "\n",
    "training_dir_path = os.path.join(imdb_path,'train')\n",
    "testing_dir_path = os.path.join(imdb_path,'test')\n",
    "\n",
    "def read_data(path):\n",
    "    \n",
    "    texts = []\n",
    "    labels = []\n",
    "    \n",
    "    for label_type in ['pos','neg']:\n",
    "        sub_dir_path = os.path.join(training_dir_path,label_type)\n",
    "        sub_dirs = os.listdir(sub_dir_path)\n",
    "        for sub_dir in sub_dirs:\n",
    "            if sub_dir[-4:] == '.txt':\n",
    "                f = open(os.path.join(sub_dir_path,sub_dir))\n",
    "                texts.append(f.read())\n",
    "                f.close()\n",
    "                if label_type == 'neg':\n",
    "                    labels.append(0)\n",
    "                else:\n",
    "                    labels.append(1)\n",
    "    return texts, labels\n",
    "        \n",
    "texts, labels = read_data(training_dir_path)\n",
    "test_texts, test_labels = read_data(testing_dir_path)\n",
    "\n",
    "print('Successfully read {0} texts from training data!'.format(len(texts)))\n",
    "print('Successfully read {0} texts from testing data!'.format(len(test_texts)))\n",
    "\n",
    "print('\\n\\nSample raw text from the data: \\n\\n{0}'.format(texts[10]))"
   ]
  },
  {
   "cell_type": "markdown",
   "metadata": {},
   "source": [
    "### Tokenizing the text and preparing training/validation data\n",
    "\n",
    "* Using `Tokenizer` from `keras.preprocessing.text` to fit the texts and produce sequences out of them\n",
    "* Using `pad_sequences` from `keras.preprocessing.sequence` to pad the sequences to uniform length\n",
    "* Split the data into `training` and `validation` set by shuffling the indices"
   ]
  },
  {
   "cell_type": "code",
   "execution_count": 12,
   "metadata": {},
   "outputs": [
    {
     "name": "stdout",
     "output_type": "stream",
     "text": [
      "Found 88582 unique tokens!\n",
      "Data dimensions: (25000, 100)\n",
      "Found 88582 unique tokens!\n",
      "Data dimensions: (25000, 100)\n",
      "\n",
      " Sample processed data (using tokenizer word indexes 1-9999): \n",
      "\n",
      "[   0    0    0    0    0    0    0    0    0    0    0    0    0    0\n",
      "    0    0    0    0    0    0    0    0    0    0    0    0    0    0\n",
      "    0    0    0    0    0    0    0    0    0    0    0    0    0    0\n",
      "    0    0    0    0    0    0    0    0    0    0    0    0    0    0\n",
      "    0    0    0    0    0    0   10  116   11   17    2  112   76 1454\n",
      "    4  146    1  225    8    9    6   84   98  280  251  737  334  141\n",
      "   64   11   17    2  816    1  812   16   37 1921 5175    2   22  188\n",
      "  137  352]\n",
      "\n",
      "\n",
      "Training set size: 16000, validation set size: 4000, Test set size: 25000\n"
     ]
    }
   ],
   "source": [
    "MAX_WORDS = 10000\n",
    "MAX_LEN = 100\n",
    "TRAIN_SIZE = 16000\n",
    "VALIDATION_SIZE = 4000\n",
    "\n",
    "tokenizer = Tokenizer(num_words=MAX_WORDS)\n",
    "\n",
    "def prepare_data(texts, tokenizer):\n",
    "    \n",
    "    tokenizer.fit_on_texts(texts)\n",
    "    sequences = tokenizer.texts_to_sequences(texts)\n",
    "\n",
    "    data = pad_sequences(sequences,maxlen=MAX_LEN)\n",
    "    \n",
    "    print('Found {0} unique tokens!'.format(len(tokenizer.word_index)))\n",
    "    print('Data dimensions: {0}'.format(data.shape))\n",
    "\n",
    "    return data\n",
    "\n",
    "data = prepare_data(texts, tokenizer)\n",
    "test_data = prepare_data(test_texts, tokenizer)\n",
    "\n",
    "print('\\n Sample processed data (using tokenizer word indexes 1-9999): \\n\\n{0}'.format(data[10]))\n",
    "\n",
    "labels = np.asarray(labels)\n",
    "test_labels = np.asarray(test_labels)\n",
    "\n",
    "indexes = np.arange(data.shape[0])\n",
    "np.random.shuffle(indexes)\n",
    "\n",
    "data = data[indexes]\n",
    "labels = labels[indexes]\n",
    "\n",
    "X_train = data[:TRAIN_SIZE]\n",
    "X_val = data[TRAIN_SIZE: TRAIN_SIZE+VALIDATION_SIZE]\n",
    "\n",
    "y_train = labels[:TRAIN_SIZE]\n",
    "y_val = labels[TRAIN_SIZE:TRAIN_SIZE+VALIDATION_SIZE]\n",
    "\n",
    "print('\\n\\nTraining set size: {0}, validation set size: {1}, Test set size: {2}'.format(X_train.shape[0], X_val.shape[0], test_data.shape[0]))"
   ]
  },
  {
   "cell_type": "markdown",
   "metadata": {},
   "source": [
    "### Pre-trained word vectors\n",
    "\n",
    "* Glove vectors are read from the downloaded location (source: `https://nlp.stanford.edu/projects/glove`)\n",
    "* Building an `embedding_index` that maps words from Glove to their word vectors\n",
    "* The `embedding_matrix` is prepared based on the `word_indexes` provided by the `tokenizer` using 100-d word vectors defined in `embedding_index`\n",
    "* This `embedding_matrix` would be fed to the `Embedding` layer weights and kept frozen\n",
    "\n",
    "\n",
    "#### Note on word vectors\n",
    "* --pending\n"
   ]
  },
  {
   "cell_type": "code",
   "execution_count": 13,
   "metadata": {},
   "outputs": [
    {
     "name": "stdout",
     "output_type": "stream",
     "text": [
      "Found 400000 word vectors!\n",
      "Embedding matrix of shape (10000, 100) prepared. To be fed to the Embedding layer weights.\n"
     ]
    }
   ],
   "source": [
    "embedding_index = {}\n",
    "\n",
    "glove_path = os.getcwd() + '/data/glove.6B/glove.6B.100d.txt' # Using 100-dimensional word vectors\n",
    "f = open(glove_path)\n",
    "\n",
    "for line in f:\n",
    "    values = line.split()\n",
    "    word = values[0]\n",
    "    coefs = np.asarray(values[1:],dtype='float32')\n",
    "    embedding_index[word] = coefs\n",
    "    \n",
    "f.close()\n",
    "\n",
    "print('Found {0} word vectors!'.format(len(embedding_index)))\n",
    "\n",
    "# Defining the embedding_matrix to be fed to Embedding layer of the Model\n",
    "\n",
    "EMBEDDING_DIM = 100\n",
    "\n",
    "embedding_matrix = np.zeros((MAX_WORDS, EMBEDDING_DIM))\n",
    "\n",
    "for word,index in tokenizer.word_index.items():\n",
    "    if index < MAX_WORDS:\n",
    "        embedding_vector = embedding_index.get(word)\n",
    "        if embedding_vector is not None:\n",
    "            embedding_matrix[index] = embedding_vector # Otherwise, it remains as zeros\n",
    "\n",
    "print('Embedding matrix of shape {0} prepared. To be fed to the Embedding layer weights.'.format(embedding_matrix.shape))"
   ]
  },
  {
   "cell_type": "markdown",
   "metadata": {},
   "source": [
    "### Building and training the model\n",
    "\n",
    "* `Embedding` layer is loaded with weights from `embedding_matrix` and is frozen by setting `trainable` to `False`"
   ]
  },
  {
   "cell_type": "code",
   "execution_count": 14,
   "metadata": {
    "scrolled": true
   },
   "outputs": [
    {
     "name": "stdout",
     "output_type": "stream",
     "text": [
      "_________________________________________________________________\n",
      "Layer (type)                 Output Shape              Param #   \n",
      "=================================================================\n",
      "embedding_1 (Embedding)      (None, 100, 100)          1000000   \n",
      "_________________________________________________________________\n",
      "flatten_3 (Flatten)          (None, 10000)             0         \n",
      "_________________________________________________________________\n",
      "dense_5 (Dense)              (None, 32)                320032    \n",
      "_________________________________________________________________\n",
      "dense_6 (Dense)              (None, 1)                 33        \n",
      "=================================================================\n",
      "Total params: 1,320,065\n",
      "Trainable params: 1,320,065\n",
      "Non-trainable params: 0\n",
      "_________________________________________________________________\n"
     ]
    }
   ],
   "source": [
    "model = Sequential()\n",
    "\n",
    "model.add(Embedding(MAX_WORDS, EMBEDDING_DIM, input_length=MAX_LEN, name='embedding_1'))\n",
    "model.add(Flatten())\n",
    "model.add(Dense(32, activation='relu'))\n",
    "model.add(Dense(1, activation='sigmoid'))\n",
    "model.summary()\n",
    "\n",
    "# Loading Glove embeddings to the model\n",
    "model.get_layer('embedding_1').set_weights([embedding_matrix])\n",
    "model.get_layer('embedding_1').trainable = False\n",
    "\n",
    "# model.layers[0].set_weights([embedding_matrix])\n",
    "# model.layers[0].trainable = False"
   ]
  },
  {
   "cell_type": "code",
   "execution_count": 15,
   "metadata": {},
   "outputs": [
    {
     "name": "stdout",
     "output_type": "stream",
     "text": [
      "Train on 16000 samples, validate on 4000 samples\n",
      "Epoch 1/8\n",
      "16000/16000 [==============================] - 3s 207us/step - loss: 0.7242 - acc: 0.4999 - val_loss: 0.6931 - val_acc: 0.4975\n",
      "Epoch 2/8\n",
      "16000/16000 [==============================] - 3s 190us/step - loss: 0.6942 - acc: 0.5042 - val_loss: 0.6940 - val_acc: 0.5020\n",
      "Epoch 3/8\n",
      "16000/16000 [==============================] - 3s 176us/step - loss: 0.6953 - acc: 0.5200 - val_loss: 0.6987 - val_acc: 0.5082\n",
      "Epoch 4/8\n",
      "16000/16000 [==============================] - 4s 243us/step - loss: 0.6778 - acc: 0.5564 - val_loss: 0.7017 - val_acc: 0.5100\n",
      "Epoch 5/8\n",
      "16000/16000 [==============================] - 5s 298us/step - loss: 0.6570 - acc: 0.5881 - val_loss: 0.7216 - val_acc: 0.5180\n",
      "Epoch 6/8\n",
      "16000/16000 [==============================] - 5s 310us/step - loss: 0.6218 - acc: 0.6269 - val_loss: 0.7660 - val_acc: 0.5095\n",
      "Epoch 7/8\n",
      "16000/16000 [==============================] - 5s 318us/step - loss: 0.5837 - acc: 0.6598 - val_loss: 0.7377 - val_acc: 0.5040\n",
      "Epoch 8/8\n",
      "16000/16000 [==============================] - 4s 255us/step - loss: 0.5343 - acc: 0.6984 - val_loss: 0.7877 - val_acc: 0.5135\n"
     ]
    }
   ],
   "source": [
    "EPOCHS = 8\n",
    "BATCH_SIZE = 64\n",
    "\n",
    "model.compile(optimizer='rmsprop', loss='binary_crossentropy', metrics=['acc'])\n",
    "history = model.fit(X_train, y_train, epochs=EPOCHS, batch_size=BATCH_SIZE, validation_data=(X_val, y_val))\n",
    "\n",
    "model.save_weights('data/6.1.3_IMDB_sentiment_analysis_from_scratch_v1.h5')"
   ]
  },
  {
   "cell_type": "code",
   "execution_count": 16,
   "metadata": {},
   "outputs": [
    {
     "data": {
      "image/png": "[encoded data removed]",
      "text/plain": [
       "<Figure size 432x288 with 1 Axes>"
      ]
     },
     "metadata": {},
     "output_type": "display_data"
    },
    {
     "data": {
      "image/png": "[encoded data removed]",
      "text/plain": [
       "<Figure size 432x288 with 1 Axes>"
      ]
     },
     "metadata": {},
     "output_type": "display_data"
    }
   ],
   "source": [
    "# Plots - pending\n",
    "loss = history.history['loss']\n",
    "val_loss = history.history['val_loss']\n",
    "acc = history.history['acc']\n",
    "val_acc = history.history['val_acc']\n",
    "\n",
    "x_range = range(1,len(acc)+1)\n",
    "\n",
    "plt.plot(x_range, acc, 'r-', label='training_accuracy')\n",
    "plt.plot(x_range, val_acc, 'b-', label='validation_accuracy')\n",
    "plt.legend()\n",
    "plt.title('Training Accuracy v/s Validation Accuracy')\n",
    "plt.show()\n",
    "\n",
    "\n",
    "plt.plot(x_range, loss, 'r-', label='training_loss')\n",
    "plt.plot(x_range, val_loss, 'b-', label='validation_loss')\n",
    "plt.legend()\n",
    "plt.title('Training Loss v/s Validation Loss')\n",
    "plt.show()"
   ]
  },
  {
   "cell_type": "code",
   "execution_count": 17,
   "metadata": {},
   "outputs": [
    {
     "name": "stdout",
     "output_type": "stream",
     "text": [
      "_________________________________________________________________\n",
      "Layer (type)                 Output Shape              Param #   \n",
      "=================================================================\n",
      "embedding_2 (Embedding)      (None, 100, 100)          1000000   \n",
      "_________________________________________________________________\n",
      "flatten_4 (Flatten)          (None, 10000)             0         \n",
      "_________________________________________________________________\n",
      "dense_7 (Dense)              (None, 32)                320032    \n",
      "_________________________________________________________________\n",
      "dense_8 (Dense)              (None, 1)                 33        \n",
      "=================================================================\n",
      "Total params: 1,320,065\n",
      "Trainable params: 1,320,065\n",
      "Non-trainable params: 0\n",
      "_________________________________________________________________\n"
     ]
    }
   ],
   "source": [
    "# Model using self-learning Embedding Layer\n",
    "\n",
    "learning_model = Sequential()\n",
    "learning_model.add(Embedding(MAX_WORDS, EMBEDDING_DIM, input_length=MAX_LEN))\n",
    "learning_model.add(Flatten())\n",
    "learning_model.add(Dense(32,activation='relu'))\n",
    "learning_model.add(Dense(1,activation='sigmoid'))\n",
    "learning_model.summary()"
   ]
  },
  {
   "cell_type": "code",
   "execution_count": 18,
   "metadata": {},
   "outputs": [
    {
     "name": "stdout",
     "output_type": "stream",
     "text": [
      "Train on 16000 samples, validate on 4000 samples\n",
      "Epoch 1/8\n",
      "16000/16000 [==============================] - 8s 497us/step - loss: 0.6935 - acc: 0.5059 - val_loss: 0.6929 - val_acc: 0.5058\n",
      "Epoch 2/8\n",
      "16000/16000 [==============================] - 8s 476us/step - loss: 0.4744 - acc: 0.8120 - val_loss: 0.8388 - val_acc: 0.5058\n",
      "Epoch 3/8\n",
      "16000/16000 [==============================] - 7s 460us/step - loss: 0.0960 - acc: 0.9750 - val_loss: 1.2138 - val_acc: 0.5080\n",
      "Epoch 4/8\n",
      "16000/16000 [==============================] - 8s 490us/step - loss: 0.0225 - acc: 0.9964 - val_loss: 1.4341 - val_acc: 0.5082\n",
      "Epoch 5/8\n",
      "16000/16000 [==============================] - 7s 468us/step - loss: 0.0105 - acc: 0.9978 - val_loss: 1.6739 - val_acc: 0.5052\n",
      "Epoch 6/8\n",
      "16000/16000 [==============================] - 7s 463us/step - loss: 0.0064 - acc: 0.9981 - val_loss: 1.8406 - val_acc: 0.5068\n",
      "Epoch 7/8\n",
      "16000/16000 [==============================] - 8s 481us/step - loss: 0.0041 - acc: 0.9982 - val_loss: 2.0295 - val_acc: 0.5090\n",
      "Epoch 8/8\n",
      "16000/16000 [==============================] - 7s 465us/step - loss: 0.0031 - acc: 0.9984 - val_loss: 2.3026 - val_acc: 0.5082\n"
     ]
    }
   ],
   "source": [
    "learning_model.compile(optimizer='rmsprop', loss='binary_crossentropy', metrics=['acc'])\n",
    "history = learning_model.fit(X_train, y_train, epochs=EPOCHS, batch_size=BATCH_SIZE, validation_data=(X_val, y_val))"
   ]
  },
  {
   "cell_type": "code",
   "execution_count": 19,
   "metadata": {},
   "outputs": [
    {
     "name": "stdout",
     "output_type": "stream",
     "text": [
      "25000/25000 [==============================] - 2s 75us/step\n"
     ]
    },
    {
     "data": {
      "text/plain": [
       "[0.8455907570648193, 0.5128]"
      ]
     },
     "execution_count": 19,
     "metadata": {},
     "output_type": "execute_result"
    }
   ],
   "source": [
    "model.evaluate(test_data, test_labels)"
   ]
  },
  {
   "cell_type": "code",
   "execution_count": 20,
   "metadata": {},
   "outputs": [
    {
     "name": "stdout",
     "output_type": "stream",
     "text": [
      "25000/25000 [==============================] - 2s 63us/step\n"
     ]
    },
    {
     "data": {
      "text/plain": [
       "[5.377768509674072, 0.5002]"
      ]
     },
     "execution_count": 20,
     "metadata": {},
     "output_type": "execute_result"
    }
   ],
   "source": [
    "learning_model.evaluate(test_data, test_labels)"
   ]
  }
 ],
 "metadata": {
  "kernelspec": {
   "display_name": "Python 3",
   "language": "python",
   "name": "python3"
  },
  "language_info": {
   "codemirror_mode": {
    "name": "ipython",
    "version": 3
   },
   "file_extension": ".py",
   "mimetype": "text/x-python",
   "name": "python",
   "nbconvert_exporter": "python",
   "pygments_lexer": "ipython3",
   "version": "3.6.7"
  }
 },
 "nbformat": 4,
 "nbformat_minor": 2
}

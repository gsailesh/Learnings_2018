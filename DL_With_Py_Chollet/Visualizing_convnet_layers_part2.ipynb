{
 "cells": [
  {
   "cell_type": "code",
   "execution_count": 1,
   "metadata": {},
   "outputs": [
    {
     "name": "stderr",
     "output_type": "stream",
     "text": [
      "Using TensorFlow backend.\n"
     ]
    }
   ],
   "source": [
    "# Imports\n",
    "\n",
    "from keras.applications.vgg16 import VGG16, preprocess_input, decode_predictions\n",
    "from keras.preprocessing import image\n",
    "import keras.backend as K\n",
    "\n",
    "import numpy as np\n",
    "import matplotlib.pyplot as plt\n",
    "import cv2"
   ]
  },
  {
   "cell_type": "code",
   "execution_count": 2,
   "metadata": {},
   "outputs": [],
   "source": [
    "'''\n",
    "Load a sample image from local.\n",
    "Rescale it to dimensions suited for VGG16 \n",
    "'''\n",
    "\n",
    "image_path = 'data/Misc/female-elephant.jpg'\n",
    "input_image = image.load_img(path=image_path, target_size=(224,224)) \n",
    "\n",
    "X = image.img_to_array(input_image) # converts the input to the dimensions: (224,224,3)\n",
    "X = np.expand_dims(X,axis=0) # adds the batch dimension ; i.e. (1,224,224,3)\n",
    "X = preprocess_input(X) # performs channel-wise colour normalization on the batch of images (X now has batch dimenstion!)"
   ]
  },
  {
   "cell_type": "code",
   "execution_count": 3,
   "metadata": {},
   "outputs": [
    {
     "name": "stdout",
     "output_type": "stream",
     "text": [
      "Final output shape:  (None, 14, 14, 512)\n"
     ]
    }
   ],
   "source": [
    "model = VGG16(weights='imagenet')\n",
    "FINAL_CONV_LAYER = 'block5_conv3'\n",
    "FINAL_CONV_OUTPUT_SHAPE = model.get_layer(FINAL_CONV_LAYER).output_shape\n",
    "\n",
    "print(\"Final output shape: \", FINAL_CONV_OUTPUT_SHAPE)"
   ]
  },
  {
   "cell_type": "code",
   "execution_count": 4,
   "metadata": {},
   "outputs": [
    {
     "name": "stdout",
     "output_type": "stream",
     "text": [
      "Classes:  [[('n02504458', 'African_elephant', 0.8451774), ('n01871265', 'tusker', 0.14580026), ('n02504013', 'Indian_elephant', 0.008667604)]]\n"
     ]
    }
   ],
   "source": [
    "prediction = model.predict(X)\n",
    "decoded_predictions = decode_predictions(prediction,top=3)\n",
    "\n",
    "print(\"Classes: \", decoded_predictions)"
   ]
  },
  {
   "cell_type": "code",
   "execution_count": 5,
   "metadata": {},
   "outputs": [
    {
     "name": "stdout",
     "output_type": "stream",
     "text": [
      "Class index:  386\n"
     ]
    }
   ],
   "source": [
    "'''\n",
    "Pick up the index of the most probable class.\n",
    "Here it's teh index corresponding to the class: African_elephant - which has 84.5% probability\n",
    "'''\n",
    "# print(\"Prediction: \", prediction[0])\n",
    "print(\"Class index: \", np.argmax(prediction[0]))"
   ]
  },
  {
   "cell_type": "code",
   "execution_count": 6,
   "metadata": {},
   "outputs": [],
   "source": [
    "'''\n",
    "Use the index info for Gradient CAM (Class Activation Map) based detection.\n",
    "Use the feature map from the output of the last convolution layer in VGG16 - block5_conv3 (FINAL_CONV_LAYER).\n",
    "\n",
    "'''\n",
    "\n",
    "prediction_output = model.output[:,386]\n",
    "final_conv_layer = model.get_layer(FINAL_CONV_LAYER)\n",
    "\n",
    "FINAL_CONV_OUTPUT_SHAPE = FINAL_CONV_OUTPUT_SHAPE[len(FINAL_CONV_OUTPUT_SHAPE)-1]"
   ]
  },
  {
   "cell_type": "code",
   "execution_count": 7,
   "metadata": {},
   "outputs": [
    {
     "name": "stdout",
     "output_type": "stream",
     "text": [
      "Tensor(\"strided_slice_1:0\", shape=(14, 14, 512), dtype=float32)\n"
     ]
    }
   ],
   "source": [
    "'''\n",
    "Gradient CAM approach calculates the gradient for\n",
    "output feature map of the convolution layer (here, the final_conv_layer)\n",
    "against the predicted class (here, prediction_output).\n",
    "'''\n",
    "\n",
    "# gradients - Tensor of shape same as FINAL_CONV_LAYER\n",
    "gradients = K.gradients(prediction_output, final_conv_layer.output)[0]\n",
    "\n",
    "print(gradients[0])\n",
    "\n",
    "# Tensor of shape (512.) for each channel - each row corresponds to intensity of a channel\n",
    "channel_wise_gradients = K.mean(gradients, axis=(0,1,2))\n",
    "# print(channel_wise_gradients.shape)\n",
    "\n",
    "iterate = K.function([model.input], [channel_wise_gradients, final_conv_layer.output[0]])\n",
    "\n",
    "# Applies the above function to the input image array - X\n",
    "channel_wise_grad_value, final_conv_layer_output_value = iterate([X])\n",
    "\n",
    "# Applies channel-wise intensities (gradient values) onto the corresponding `final_conv_layer_output_value` elements\n",
    "for i in range(FINAL_CONV_OUTPUT_SHAPE):\n",
    "    final_conv_layer_output_value[:,:,i] *= channel_wise_grad_value[i]\n",
    "\n",
    "# Produces a heatmap of shape (14,14) based on mean values of `final_conv_layer_output_value`\n",
    "heatmap = np.mean(final_conv_layer_output_value, axis=-1)\n",
    "\n",
    "# print(heatmap.shape)"
   ]
  },
  {
   "cell_type": "code",
   "execution_count": 8,
   "metadata": {},
   "outputs": [
    {
     "data": {
      "text/plain": [
       "<matplotlib.image.AxesImage at 0x7fbd3729b4a8>"
      ]
     },
     "execution_count": 8,
     "metadata": {},
     "output_type": "execute_result"
    },
    {
     "data": {
      "image/png": "[encoded data removed]",
      "text/plain": [
       "<Figure size 288x288 with 1 Axes>"
      ]
     },
     "metadata": {},
     "output_type": "display_data"
    }
   ],
   "source": [
    "'''\n",
    "Normalize the heatmap intensities for visualization purposes.\n",
    "\n",
    "np.maximum() produces element-wise maximum ; either positive or zero\n",
    "Dividing by np.max() produces normalized values within (0,1) for heatmap.\n",
    "'''\n",
    "heatmap = np.maximum(heatmap,0)\n",
    "heatmap /= np.max(heatmap)\n",
    "\n",
    "plt.matshow(heatmap)"
   ]
  },
  {
   "cell_type": "code",
   "execution_count": 11,
   "metadata": {},
   "outputs": [
    {
     "data": {
      "text/plain": [
       "True"
      ]
     },
     "execution_count": 11,
     "metadata": {},
     "output_type": "execute_result"
    }
   ],
   "source": [
    "actual_image = cv2.imread(image_path)\n",
    "\n",
    "heatmap_resized = cv2.resize(heatmap, (actual_image.shape[1], actual_image.shape[0]))\n",
    "heatmap_resized = np.uint8(255 * heatmap_resized) # Converts to RGB\n",
    "\n",
    "heatmap_resized = cv2.applyColorMap(heatmap_resized, cv2.COLORMAP_JET)\n",
    "superimposed_image = heatmap_resized * 0.4 + actual_image # 0.4 is the heatmap intensity factor\n",
    "\n",
    "cv2.imwrite('data/Misc/female-elephant_cam.jpg', superimposed_image)"
   ]
  }
 ],
 "metadata": {
  "kernelspec": {
   "display_name": "Python 3",
   "language": "python",
   "name": "python3"
  },
  "language_info": {
   "codemirror_mode": {
    "name": "ipython",
    "version": 3
   },
   "file_extension": ".py",
   "mimetype": "text/x-python",
   "name": "python",
   "nbconvert_exporter": "python",
   "pygments_lexer": "ipython3",
   "version": "3.6.7"
  }
 },
 "nbformat": 4,
 "nbformat_minor": 2
}

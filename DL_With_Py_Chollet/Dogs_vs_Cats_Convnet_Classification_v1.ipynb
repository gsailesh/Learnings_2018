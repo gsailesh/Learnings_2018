{
 "cells": [
  {
   "cell_type": "code",
   "execution_count": 1,
   "metadata": {},
   "outputs": [
    {
     "name": "stderr",
     "output_type": "stream",
     "text": [
      "Using TensorFlow backend.\n"
     ]
    }
   ],
   "source": [
    "from keras.models import Sequential\n",
    "from keras.layers import Dense, Flatten, MaxPool2D, Conv2D, Dropout\n",
    "from keras.optimizers import Adam\n",
    "from keras.preprocessing.image import ImageDataGenerator\n",
    "from keras.preprocessing import image\n",
    "import os, shutil\n",
    "import matplotlib.pyplot as plt"
   ]
  },
  {
   "cell_type": "code",
   "execution_count": 2,
   "metadata": {},
   "outputs": [],
   "source": [
    "ORIGINAL_DATASET_DIR = '/home/saileshg/sailspace/dev/Projects/GitProjects/Self/Learn/DL_With_Py_Chollet/Originals/cats_dogs_all/train'\n",
    "BASE_DIR = 'data/cats_dogs_all'\n",
    "MODEL_EXPORT_DIR = BASE_DIR\n",
    "CAT_CLASS = 'cat'\n",
    "DOG_CLASS = 'dog'\n",
    "IM_DIMS = (150,150,3)"
   ]
  },
  {
   "cell_type": "code",
   "execution_count": 3,
   "metadata": {},
   "outputs": [],
   "source": [
    "def generate_folder_structure(src_dir, class_name, base_dir='./data', train_size=1000, test_val_size=500):\n",
    "    \n",
    "    if not os.path.lexists(base_dir):\n",
    "        os.mkdir(base_dir)\n",
    "\n",
    "    for dir_name in ['train', 'validation', 'test']:\n",
    "        \n",
    "        sub_dir = os.path.join(base_dir, dir_name)\n",
    "        if not os.path.lexists(sub_dir):\n",
    "            os.mkdir(sub_dir)\n",
    "        \n",
    "        sub_class_dir = os.path.join(sub_dir,class_name)\n",
    "        if not os.path.lexists(sub_class_dir):\n",
    "            os.mkdir(sub_class_dir)\n",
    "        \n",
    "        if dir_name == 'train':\n",
    "            fnames= [class_name+'.{}.jpg'.format(i) for i in range(train_size)]\n",
    "        elif dir_name == 'validation':\n",
    "            fnames= [class_name+'.{}.jpg'.format(i) for i in range(train_size, train_size+test_val_size)]\n",
    "        else:\n",
    "            fnames= [class_name+'.{}.jpg'.format(i) for i in range(train_size+test_val_size, train_size+(2*test_val_size))]\n",
    "        \n",
    "        for fname in fnames:\n",
    "            src = os.path.join(src_dir, fname)\n",
    "            dst = os.path.join(sub_class_dir, fname)\n",
    "            shutil.copyfile(src, dst)\n",
    "        \n",
    "        print('Total images in {} - {} directory: '.format(dir_name, sub_class_dir), len(os.listdir(sub_class_dir)))\n",
    "    return base_dir\n",
    "        \n",
    "    "
   ]
  },
  {
   "cell_type": "code",
   "execution_count": 4,
   "metadata": {},
   "outputs": [
    {
     "name": "stdout",
     "output_type": "stream",
     "text": [
      "Total images in train - data/cats_dogs_all/train/cat directory:  1000\n",
      "Total images in validation - data/cats_dogs_all/validation/cat directory:  500\n",
      "Total images in test - data/cats_dogs_all/test/cat directory:  500\n",
      "Total images in train - data/cats_dogs_all/train/dog directory:  1000\n",
      "Total images in validation - data/cats_dogs_all/validation/dog directory:  500\n",
      "Total images in test - data/cats_dogs_all/test/dog directory:  500\n",
      "Base folder:  data/cats_dogs_all\n"
     ]
    }
   ],
   "source": [
    "base_dir_folder = generate_folder_structure(src_dir=ORIGINAL_DATASET_DIR, class_name=CAT_CLASS, base_dir=BASE_DIR)\n",
    "base_dir_folder = generate_folder_structure(src_dir=ORIGINAL_DATASET_DIR, class_name=DOG_CLASS, base_dir=BASE_DIR)\n",
    "print(\"Base folder: \", base_dir_folder)"
   ]
  },
  {
   "cell_type": "code",
   "execution_count": 5,
   "metadata": {},
   "outputs": [
    {
     "name": "stdout",
     "output_type": "stream",
     "text": [
      "_________________________________________________________________\n",
      "Layer (type)                 Output Shape              Param #   \n",
      "=================================================================\n",
      "conv2d_1 (Conv2D)            (None, 148, 148, 32)      896       \n",
      "_________________________________________________________________\n",
      "max_pooling2d_1 (MaxPooling2 (None, 74, 74, 32)        0         \n",
      "_________________________________________________________________\n",
      "conv2d_2 (Conv2D)            (None, 72, 72, 64)        18496     \n",
      "_________________________________________________________________\n",
      "max_pooling2d_2 (MaxPooling2 (None, 36, 36, 64)        0         \n",
      "_________________________________________________________________\n",
      "conv2d_3 (Conv2D)            (None, 34, 34, 128)       73856     \n",
      "_________________________________________________________________\n",
      "max_pooling2d_3 (MaxPooling2 (None, 17, 17, 128)       0         \n",
      "_________________________________________________________________\n",
      "conv2d_4 (Conv2D)            (None, 15, 15, 128)       147584    \n",
      "_________________________________________________________________\n",
      "max_pooling2d_4 (MaxPooling2 (None, 7, 7, 128)         0         \n",
      "_________________________________________________________________\n",
      "flatten_1 (Flatten)          (None, 6272)              0         \n",
      "_________________________________________________________________\n",
      "dropout_1 (Dropout)          (None, 6272)              0         \n",
      "_________________________________________________________________\n",
      "dense_1 (Dense)              (None, 512)               3211776   \n",
      "_________________________________________________________________\n",
      "dense_2 (Dense)              (None, 1)                 513       \n",
      "=================================================================\n",
      "Total params: 3,453,121\n",
      "Trainable params: 3,453,121\n",
      "Non-trainable params: 0\n",
      "_________________________________________________________________\n"
     ]
    }
   ],
   "source": [
    "model = Sequential()\n",
    "\n",
    "model.add(Conv2D(32,(3,3),activation='relu',input_shape=IM_DIMS))\n",
    "model.add(MaxPool2D((2,2)))\n",
    "model.add(Conv2D(64,(3,3),activation='relu'))\n",
    "model.add(MaxPool2D((2,2)))\n",
    "model.add(Conv2D(128,(3,3),activation='relu'))\n",
    "model.add(MaxPool2D((2,2)))\n",
    "model.add(Conv2D(128,(3,3),activation='relu'))\n",
    "model.add(MaxPool2D((2,2)))\n",
    "model.add(Flatten())\n",
    "model.add(Dropout(0.2))\n",
    "model.add(Dense(512,activation='relu'))\n",
    "model.add(Dense(1,activation='sigmoid'))\n",
    "\n",
    "model.summary()"
   ]
  },
  {
   "cell_type": "code",
   "execution_count": 6,
   "metadata": {},
   "outputs": [],
   "source": [
    "model.compile(optimizer=Adam(lr=0.0002),loss='binary_crossentropy',metrics=['acc'])"
   ]
  },
  {
   "cell_type": "code",
   "execution_count": 7,
   "metadata": {},
   "outputs": [],
   "source": [
    "train_datagen = ImageDataGenerator(featurewise_center=False,\n",
    "                                   samplewise_center=False,\n",
    "                                   featurewise_std_normalization=False,\n",
    "                                   samplewise_std_normalization=False,\n",
    "                                   zca_whitening=False,\n",
    "                                   zca_epsilon=1e-06,\n",
    "                                   rotation_range=40,\n",
    "                                   width_shift_range=0.2,\n",
    "                                   height_shift_range=0.2,\n",
    "                                   brightness_range=None,\n",
    "                                   shear_range=0.2,\n",
    "                                   zoom_range=0.2,\n",
    "                                   channel_shift_range=0.0,\n",
    "                                   fill_mode='nearest',\n",
    "                                   cval=0.0,\n",
    "                                   horizontal_flip=True,\n",
    "                                   vertical_flip=False,\n",
    "                                   rescale=1./255,\n",
    "                                   preprocessing_function=None,\n",
    "                                   data_format=None,\n",
    "                                   validation_split=0.0)\n",
    "\n",
    "validation_datagen = ImageDataGenerator(rescale=1./255)"
   ]
  },
  {
   "cell_type": "code",
   "execution_count": 8,
   "metadata": {},
   "outputs": [
    {
     "name": "stdout",
     "output_type": "stream",
     "text": [
      "Found 2000 images belonging to 2 classes.\n",
      "Found 1000 images belonging to 2 classes.\n"
     ]
    }
   ],
   "source": [
    "train_dir_folder = os.path.join(base_dir_folder,'train')\n",
    "validation_dir_folder = os.path.join(base_dir_folder,'validation')\n",
    "\n",
    "train_generator = train_datagen.flow_from_directory(\n",
    "    train_dir_folder,\n",
    "    target_size=(150, 150),\n",
    "    color_mode='rgb',\n",
    "    classes=None,\n",
    "    class_mode='binary', # for binary_crossentropy\n",
    "    batch_size=32,\n",
    "    shuffle=True,\n",
    "    seed=None,\n",
    "    save_to_dir=None,\n",
    "    save_prefix='',\n",
    "    save_format='png',\n",
    "    follow_links=False,\n",
    "    subset=None,\n",
    "    interpolation='nearest')\n",
    "\n",
    "validation_generator = validation_datagen.flow_from_directory(\n",
    "    validation_dir_folder,\n",
    "    target_size=(150, 150),\n",
    "    color_mode='rgb',\n",
    "    classes=None,\n",
    "    class_mode='binary',\n",
    "    batch_size=32,\n",
    "    shuffle=True,\n",
    "    seed=None,\n",
    "    save_to_dir=None,\n",
    "    save_prefix='',\n",
    "    save_format='png',\n",
    "    follow_links=False,\n",
    "    subset=None,\n",
    "    interpolation='nearest')"
   ]
  },
  {
   "cell_type": "code",
   "execution_count": 9,
   "metadata": {},
   "outputs": [
    {
     "name": "stdout",
     "output_type": "stream",
     "text": [
      "Epoch 1/5\n",
      "100/100 [==============================] - 206s 2s/step - loss: 0.6924 - acc: 0.5009 - val_loss: 0.6862 - val_acc: 0.5840\n",
      "Epoch 2/5\n",
      "100/100 [==============================] - 208s 2s/step - loss: 0.6732 - acc: 0.5762 - val_loss: 0.6295 - val_acc: 0.6390\n",
      "Epoch 3/5\n",
      "100/100 [==============================] - 210s 2s/step - loss: 0.6653 - acc: 0.5884 - val_loss: 0.6234 - val_acc: 0.6440\n",
      "Epoch 4/5\n",
      "100/100 [==============================] - 202s 2s/step - loss: 0.6235 - acc: 0.6472 - val_loss: 0.5968 - val_acc: 0.6580\n",
      "Epoch 5/5\n",
      "100/100 [==============================] - 184s 2s/step - loss: 0.6040 - acc: 0.6769 - val_loss: 0.5742 - val_acc: 0.6900\n"
     ]
    }
   ],
   "source": [
    "history = model.fit_generator(\n",
    "    train_generator, \n",
    "    steps_per_epoch=100, \n",
    "    epochs=5, \n",
    "    verbose=1, \n",
    "    callbacks=None, \n",
    "    validation_data=validation_generator, \n",
    "    validation_steps=50, \n",
    "    class_weight=None, \n",
    "    max_queue_size=10, \n",
    "    workers=1, \n",
    "    use_multiprocessing=False, \n",
    "    shuffle=True, \n",
    "    initial_epoch=0)"
   ]
  },
  {
   "cell_type": "code",
   "execution_count": 10,
   "metadata": {},
   "outputs": [],
   "source": [
    "if not os.path.lexists(MODEL_EXPORT_DIR):\n",
    "    os.mkdir(MODEL_EXPORT_DIR)\n",
    "    \n",
    "model.save(MODEL_EXPORT_DIR+r'cats_dogs_classifier_v1.h5', overwrite=True, include_optimizer=True)"
   ]
  },
  {
   "cell_type": "code",
   "execution_count": 12,
   "metadata": {},
   "outputs": [
    {
     "name": "stdout",
     "output_type": "stream",
     "text": [
      "History items:  dict_items([('val_loss', [0.6862083253860474, 0.6294986162185668, 0.623411940574646, 0.5968391847610474, 0.5741899089813233]), ('val_acc', [0.584, 0.639, 0.644, 0.658, 0.69]), ('loss', [0.6924623582098219, 0.6738040365956046, 0.6654378517189218, 0.6230240311454888, 0.6037654885739991]), ('acc', [0.4996843434343434, 0.5754419191919192, 0.5885678391959799, 0.6482412060301508, 0.6767676767676768])])\n"
     ]
    }
   ],
   "source": [
    "print(\"History items: \", history.history.items())"
   ]
  },
  {
   "cell_type": "code",
   "execution_count": 18,
   "metadata": {},
   "outputs": [
    {
     "data": {
      "text/plain": [
       "<matplotlib.legend.Legend at 0x7f71f166f710>"
      ]
     },
     "execution_count": 18,
     "metadata": {},
     "output_type": "execute_result"
    },
    {
     "data": {
      "image/png": "[encoded data removed]",
      "text/plain": [
       "<Figure size 432x288 with 1 Axes>"
      ]
     },
     "metadata": {},
     "output_type": "display_data"
    },
    {
     "data": {
      "image/png": "[encoded data removed]",
      "text/plain": [
       "<Figure size 432x288 with 1 Axes>"
      ]
     },
     "metadata": {},
     "output_type": "display_data"
    }
   ],
   "source": [
    "# Plot Training/Validation accuracy\n",
    "\n",
    "accuracy = history.history['acc']\n",
    "val_accuracy = history.history['val_acc']\n",
    "loss = history.history['loss']\n",
    "val_loss = history.history['val_loss']\n",
    "\n",
    "epochs = range(1,len(accuracy)+1)\n",
    "\n",
    "plt.plot(epochs,accuracy,'b',label='Training accuracy')\n",
    "plt.plot(epochs,val_accuracy,'r',label='Validation accuracy')\n",
    "plt.title(\"Training and Validation accuracy\")\n",
    "plt.legend()\n",
    "\n",
    "plt.figure()\n",
    "\n",
    "plt.plot(epochs,loss,'b',label='Training loss')\n",
    "plt.plot(epochs,val_loss,'r',label='Validation loss')\n",
    "plt.title(\"Training and Validation loss\")\n",
    "plt.legend()"
   ]
  }
 ],
 "metadata": {
  "kernelspec": {
   "display_name": "Python 3",
   "language": "python",
   "name": "python3"
  },
  "language_info": {
   "codemirror_mode": {
    "name": "ipython",
    "version": 3
   },
   "file_extension": ".py",
   "mimetype": "text/x-python",
   "name": "python",
   "nbconvert_exporter": "python",
   "pygments_lexer": "ipython3",
   "version": "3.6.6"
  }
 },
 "nbformat": 4,
 "nbformat_minor": 2
}

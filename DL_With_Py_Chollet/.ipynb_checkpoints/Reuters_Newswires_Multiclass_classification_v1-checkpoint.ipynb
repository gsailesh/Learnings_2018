{
 "cells": [
  {
   "cell_type": "code",
   "execution_count": 1,
   "metadata": {},
   "outputs": [
    {
     "name": "stderr",
     "output_type": "stream",
     "text": [
      "Using TensorFlow backend.\n"
     ]
    }
   ],
   "source": [
    "\n",
    "# Import & Data definitions\n",
    "from keras.models import Sequential\n",
    "from keras.layers import Dense\n",
    "from keras.utils import to_categorical\n",
    "from keras.optimizers import Adam\n",
    "from keras.datasets import reuters\n",
    "import matplotlib.pyplot as plt\n",
    "import numpy as np"
   ]
  },
  {
   "cell_type": "code",
   "execution_count": 2,
   "metadata": {},
   "outputs": [],
   "source": [
    "# Define data\n",
    "BATCH_SIZE=512\n",
    "EPOCHS=20\n",
    "NUM_CLASSES=46\n",
    "TYPE={'CATEGORICAL':'categorical_crossentropy','SPARSE':'sparse_categorical_crossentropy'}\n",
    "\n",
    "# Load data\n",
    "(X_train,y_train),(X_test,y_test) = reuters.load_data(num_words=10000)"
   ]
  },
  {
   "cell_type": "code",
   "execution_count": 3,
   "metadata": {},
   "outputs": [
    {
     "name": "stdout",
     "output_type": "stream",
     "text": [
      "? generale de banque sa lt ? br and lt heller overseas corp of chicago have each taken 50 pct stakes in ? company sa ? factors generale de banque said in a statement it gave no financial details of the transaction sa ? ? turnover in 1986 was 17 5 billion belgian francs reuter 3\n"
     ]
    }
   ],
   "source": [
    "# Decode data\n",
    "word_index = None; reverse_word_index = None\n",
    "\n",
    "def decode_sample(datapoint, word_index=None, reverse_word_index=None):\n",
    "    \n",
    "    if word_index is None:\n",
    "        word_index = reuters.get_word_index()\n",
    "\n",
    "    if reverse_word_index is None:\n",
    "        reverse_word_index = dict([(v,k) for (k,v) in word_index.items()])\n",
    "\n",
    "    text = ' '.join(reverse_word_index.get(i-3,'?') for i in datapoint)\n",
    "    return text\n",
    "\n",
    "print(decode_sample(X_train[1], word_index, reverse_word_index))\n",
    "\n",
    "\n",
    "# Preprocess\n",
    "def preprocess(X,y,dims=10000, type=TYPE['CATEGORICAL']):\n",
    "\n",
    "    X_result = np.zeros((len(X),dims))\n",
    "\n",
    "    for i,v in enumerate(X):\n",
    "        X_result[i,v] = 1\n",
    "\n",
    "    if type.lower() == TYPE['SPARSE'].lower():\n",
    "        y_result = np.array(y)\n",
    "    else:\n",
    "        y_result = to_categorical(y)\n",
    "\n",
    "    return (X_result, y_result)\n",
    "\n",
    "\n",
    "X_train_vec, y_train_vec = preprocess(X_train,y_train, type=TYPE['SPARSE'])\n",
    "X_test_vec, y_test_vec = preprocess(X_test,y_test, type=TYPE['SPARSE'])"
   ]
  },
  {
   "cell_type": "code",
   "execution_count": 4,
   "metadata": {},
   "outputs": [
    {
     "name": "stdout",
     "output_type": "stream",
     "text": [
      "Train on 8982 samples, validate on 2246 samples\n",
      "Epoch 1/20\n",
      "8982/8982 [==============================] - 2s 217us/step - loss: 2.5891 - acc: 0.4898 - val_loss: 1.6555 - val_acc: 0.6549\n",
      "Epoch 2/20\n",
      "8982/8982 [==============================] - 2s 181us/step - loss: 1.2725 - acc: 0.7270 - val_loss: 1.2281 - val_acc: 0.7320\n",
      "Epoch 3/20\n",
      "8982/8982 [==============================] - 2s 192us/step - loss: 0.8494 - acc: 0.8163 - val_loss: 1.0526 - val_acc: 0.7636\n",
      "Epoch 4/20\n",
      "8982/8982 [==============================] - 2s 185us/step - loss: 0.5476 - acc: 0.8835 - val_loss: 0.9421 - val_acc: 0.7925\n",
      "Epoch 5/20\n",
      "8982/8982 [==============================] - 2s 198us/step - loss: 0.3511 - acc: 0.9252 - val_loss: 0.9219 - val_acc: 0.7943\n",
      "Epoch 6/20\n",
      "8982/8982 [==============================] - 2s 210us/step - loss: 0.2487 - acc: 0.9412 - val_loss: 0.9480 - val_acc: 0.7930\n",
      "Epoch 7/20\n",
      "8982/8982 [==============================] - 2s 170us/step - loss: 0.1968 - acc: 0.9485 - val_loss: 1.0440 - val_acc: 0.7872\n",
      "Epoch 8/20\n",
      "8982/8982 [==============================] - 2s 174us/step - loss: 0.1722 - acc: 0.9545 - val_loss: 1.0431 - val_acc: 0.7956\n",
      "Epoch 9/20\n",
      "8982/8982 [==============================] - 2s 178us/step - loss: 0.1418 - acc: 0.9576 - val_loss: 1.0342 - val_acc: 0.7974\n",
      "Epoch 10/20\n",
      "8982/8982 [==============================] - 2s 172us/step - loss: 0.1346 - acc: 0.9558 - val_loss: 1.0650 - val_acc: 0.7943\n",
      "Epoch 11/20\n",
      "8982/8982 [==============================] - 2s 183us/step - loss: 0.1264 - acc: 0.9581 - val_loss: 1.0948 - val_acc: 0.7867\n",
      "Epoch 12/20\n",
      "8982/8982 [==============================] - 2s 197us/step - loss: 0.1269 - acc: 0.9581 - val_loss: 1.0725 - val_acc: 0.8001\n",
      "Epoch 13/20\n",
      "8982/8982 [==============================] - 2s 187us/step - loss: 0.1243 - acc: 0.9585 - val_loss: 1.0750 - val_acc: 0.7996\n",
      "Epoch 14/20\n",
      "8982/8982 [==============================] - 2s 177us/step - loss: 0.1177 - acc: 0.9571 - val_loss: 1.0873 - val_acc: 0.7988\n",
      "Epoch 15/20\n",
      "8982/8982 [==============================] - 2s 181us/step - loss: 0.1122 - acc: 0.9590 - val_loss: 1.1245 - val_acc: 0.7952\n",
      "Epoch 16/20\n",
      "8982/8982 [==============================] - 2s 177us/step - loss: 0.1116 - acc: 0.9603 - val_loss: 1.0798 - val_acc: 0.7992\n",
      "Epoch 17/20\n",
      "8982/8982 [==============================] - 2s 203us/step - loss: 0.1085 - acc: 0.9584 - val_loss: 1.1276 - val_acc: 0.7925\n",
      "Epoch 18/20\n",
      "8982/8982 [==============================] - 2s 193us/step - loss: 0.1047 - acc: 0.9582 - val_loss: 1.1193 - val_acc: 0.7952\n",
      "Epoch 19/20\n",
      "8982/8982 [==============================] - 2s 177us/step - loss: 0.1015 - acc: 0.9589 - val_loss: 1.1160 - val_acc: 0.7952\n",
      "Epoch 20/20\n",
      "8982/8982 [==============================] - 2s 178us/step - loss: 0.1031 - acc: 0.9590 - val_loss: 1.1582 - val_acc: 0.7921\n"
     ]
    }
   ],
   "source": [
    "# Model init\n",
    "model = Sequential()\n",
    "model.add(Dense(64,activation='relu',input_shape=(10000,)))\n",
    "model.add(Dense(128,activation='relu'))\n",
    "model.add(Dense(46,activation='softmax'))\n",
    "\n",
    "# Model compile\n",
    "model.compile(optimizer=Adam(lr=0.002),loss=TYPE['SPARSE'],metrics=['accuracy'])\n",
    "\n",
    "# Model fit\n",
    "history = model.fit(X_train_vec, y_train_vec, batch_size=BATCH_SIZE, epochs=EPOCHS, validation_data=(X_test_vec,y_test_vec))"
   ]
  },
  {
   "cell_type": "code",
   "execution_count": 5,
   "metadata": {},
   "outputs": [
    {
     "data": {
      "image/png": "[encoded data removed]",
      "text/plain": [
       "<Figure size 432x288 with 1 Axes>"
      ]
     },
     "metadata": {},
     "output_type": "display_data"
    },
    {
     "data": {
      "image/png": "[encoded data removed]",
      "text/plain": [
       "<Figure size 432x288 with 1 Axes>"
      ]
     },
     "metadata": {},
     "output_type": "display_data"
    }
   ],
   "source": [
    "# Training visualization\n",
    "epoch_range = range(1,EPOCHS+1,1)\n",
    "\n",
    "training_loss = history.history['loss']\n",
    "validation_loss = history.history['val_loss']\n",
    "\n",
    "training_accuracy = history.history['acc']\n",
    "validation_accuracy = history.history['val_acc']\n",
    "\n",
    "plt.plot(epoch_range,training_loss,'b',label='Training loss')\n",
    "plt.plot(epoch_range, validation_loss, 'r', label='Validation loss')\n",
    "plt.title('Training v Validation Loss')\n",
    "plt.xlabel('Epochs')\n",
    "plt.ylabel('Loss')\n",
    "plt.legend()\n",
    "plt.show()\n",
    "\n",
    "plt.clf() # clear the figure\n",
    "\n",
    "plt.plot(epoch_range,training_accuracy,'b',label='Training accuracy')\n",
    "plt.plot(epoch_range, validation_accuracy, 'r', label='Validation accuracy')\n",
    "plt.title('Training v Validation Accuracy')\n",
    "plt.xlabel('Epochs')\n",
    "plt.ylabel('Accuracy')\n",
    "plt.legend()\n",
    "plt.show()"
   ]
  }
 ],
 "metadata": {
  "kernelspec": {
   "display_name": "Python 3",
   "language": "python",
   "name": "python3"
  },
  "language_info": {
   "codemirror_mode": {
    "name": "ipython",
    "version": 3
   },
   "file_extension": ".py",
   "mimetype": "text/x-python",
   "name": "python",
   "nbconvert_exporter": "python",
   "pygments_lexer": "ipython3",
   "version": "3.6.6"
  }
 },
 "nbformat": 4,
 "nbformat_minor": 2
}

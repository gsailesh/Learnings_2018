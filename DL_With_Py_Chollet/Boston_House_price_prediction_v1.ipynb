{
 "cells": [
  {
   "cell_type": "code",
   "execution_count": 12,
   "metadata": {},
   "outputs": [],
   "source": [
    "# Import & Data definitions\n",
    "import numpy as np\n",
    "from keras.datasets import boston_housing\n",
    "from keras.models import Sequential\n",
    "from keras.layers import Dense\n",
    "from keras.optimizers import Adam\n",
    "import matplotlib.pyplot as plt\n",
    "\n",
    "EPOCHS=10\n",
    "NUM_FOLDS=5\n",
    "SCORES=[]; HISTORY=[]"
   ]
  },
  {
   "cell_type": "code",
   "execution_count": 3,
   "metadata": {},
   "outputs": [],
   "source": [
    "(X_train, y_train),(X_test, y_test) = boston_housing.load_data()\n",
    "\n",
    "NUM_VAL_SAMPLES=len(X_train)//NUM_FOLDS"
   ]
  },
  {
   "cell_type": "code",
   "execution_count": 4,
   "metadata": {},
   "outputs": [],
   "source": [
    "# Data Normalization\n",
    "\n",
    "tr_mean = X_train.mean(axis=0)\n",
    "tr_std = X_train.std(axis=0)\n",
    "\n",
    "X_train_norm = (X_train - tr_mean)/tr_std\n",
    "X_test_norm = (X_test - tr_mean)/tr_std"
   ]
  },
  {
   "cell_type": "code",
   "execution_count": 9,
   "metadata": {},
   "outputs": [],
   "source": [
    "# Model initialization\n",
    "\n",
    "def build_model(data_shape):\n",
    "    \n",
    "    model = Sequential()\n",
    "    model.add(Dense(64,activation='relu',input_shape=(data_shape,)))\n",
    "    model.add(Dense(64,activation='relu'))\n",
    "    model.add(Dense(1))\n",
    "    \n",
    "    model.compile(optimizer=Adam(lr=0.002),loss='mse',metrics=['mae'])\n",
    "    return model"
   ]
  },
  {
   "cell_type": "code",
   "execution_count": 17,
   "metadata": {},
   "outputs": [
    {
     "name": "stdout",
     "output_type": "stream",
     "text": [
      "Fold # 0\n",
      "80/80 [==============================] - 0s 2ms/step\n",
      "Fold # 1\n",
      "80/80 [==============================] - 0s 2ms/step\n",
      "Fold # 2\n",
      "80/80 [==============================] - 0s 2ms/step\n",
      "Fold # 3\n",
      "80/80 [==============================] - 0s 2ms/step\n",
      "Fold # 4\n",
      "80/80 [==============================] - 0s 2ms/step\n",
      "Mean MAE:  2.5776415965136357\n"
     ]
    }
   ],
   "source": [
    "for i in range(NUM_FOLDS):\n",
    "    print(\"Fold #\",i)\n",
    "    X_val_norm = X_train_norm[i*NUM_VAL_SAMPLES:(i+1)*NUM_VAL_SAMPLES]\n",
    "    y_val = y_train[i*NUM_VAL_SAMPLES:(i+1)*NUM_VAL_SAMPLES]\n",
    "    \n",
    "    X_partial_norm = np.concatenate([X_train_norm[:i*NUM_VAL_SAMPLES],X_train_norm[(i+1)*NUM_VAL_SAMPLES:]],axis=0)\n",
    "    y_partial = np.concatenate([y_train[:i*NUM_VAL_SAMPLES],y_train[(i+1)*NUM_VAL_SAMPLES:]],axis=0)\n",
    "    \n",
    "    base_model = build_model(X_train.shape[1])\n",
    "    model_history = base_model.fit(X_partial_norm,y_partial,epochs=EPOCHS,batch_size=1,verbose=0)\n",
    "    \n",
    "    val_mse,val_mae = base_model.evaluate(X_val_norm,y_val,verbose=1)\n",
    "    SCORES.append(val_mae)\n",
    "    HISTORY.append(SCORES)\n",
    "    \n",
    "    \n",
    "print(\"Mean MAE: \", np.mean(SCORES))\n",
    "avg_mae_history = [np.mean([X[i] for X in HISTORY]) for i in range(EPOCHS)]"
   ]
  },
  {
   "cell_type": "code",
   "execution_count": 18,
   "metadata": {},
   "outputs": [
    {
     "data": {
      "image/png": "[encoded data removed]",
      "text/plain": [
       "<Figure size 432x288 with 1 Axes>"
      ]
     },
     "metadata": {},
     "output_type": "display_data"
    }
   ],
   "source": [
    "plt.plot(range(1,len(avg_mae_history)+1),avg_mae_history)\n",
    "plt.xlabel(\"Epochs\")\n",
    "plt.ylabel(\"Validation MAE\")\n",
    "plt.show()"
   ]
  }
 ],
 "metadata": {
  "kernelspec": {
   "display_name": "Python 3",
   "language": "python",
   "name": "python3"
  },
  "language_info": {
   "codemirror_mode": {
    "name": "ipython",
    "version": 3
   },
   "file_extension": ".py",
   "mimetype": "text/x-python",
   "name": "python",
   "nbconvert_exporter": "python",
   "pygments_lexer": "ipython3",
   "version": "3.6.6"
  }
 },
 "nbformat": 4,
 "nbformat_minor": 2
}

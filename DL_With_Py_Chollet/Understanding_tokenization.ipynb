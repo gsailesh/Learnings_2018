{
 "cells": [
  {
   "cell_type": "code",
   "execution_count": 5,
   "metadata": {},
   "outputs": [],
   "source": [
    "import numpy as np"
   ]
  },
  {
   "cell_type": "code",
   "execution_count": 12,
   "metadata": {},
   "outputs": [],
   "source": [
    "def generate_token_index(text_corpus):\n",
    "\n",
    "    token_dict = {}\n",
    "\n",
    "    for text in text_corpus:\n",
    "        for token in text.split():\n",
    "            if token not in token_dict:\n",
    "                token_dict[token] = len(token_dict) + 1\n",
    "\n",
    "    return token_dict\n",
    "\n",
    "# only the first max_len tokens are consisdered here!\n",
    "def generate_one_hot_encoded_dataset(samples, token_index, max_len, dimensionality = None):\n",
    "\n",
    "    if dimensionality is None:\n",
    "        result = np.zeros(shape=(len(samples), max_len, max(token_index.values()) + 1))\n",
    "        for row, sample in enumerate(samples):\n",
    "            for col, token in list(enumerate(sample.split()))[:max_len]:\n",
    "                index = token_index.get(token)\n",
    "                result[row, col, index] = 1\n",
    "\n",
    "    else:\n",
    "        result = np.zeros(shape=(len(samples), max_len, dimensionality))\n",
    "        for row, sample in enumerate(samples):\n",
    "            for col, token in list(enumerate(sample.split()))[:max_len]:\n",
    "                index = abs(hash(token)) % dimensionality # hashes the token into a random index between 0-dimensionality range\n",
    "                result[row, col, index] = 1\n",
    "\n",
    "    \n",
    "    return result"
   ]
  },
  {
   "cell_type": "code",
   "execution_count": 13,
   "metadata": {},
   "outputs": [
    {
     "name": "stdout",
     "output_type": "stream",
     "text": [
      "Dict:  {'The': 1, 'cat': 2, 'sat': 3, 'on': 4, 'the': 5, 'mat.': 6, 'dog': 7, 'ate': 8, 'my': 9, 'homework.': 10}\n",
      "Result shape:  (2, 10, 11)\n"
     ]
    },
    {
     "data": {
      "text/plain": [
       "array([[[0., 1., 0., 0., 0., 0., 0., 0., 0., 0., 0.],\n",
       "        [0., 0., 1., 0., 0., 0., 0., 0., 0., 0., 0.],\n",
       "        [0., 0., 0., 1., 0., 0., 0., 0., 0., 0., 0.],\n",
       "        [0., 0., 0., 0., 1., 0., 0., 0., 0., 0., 0.],\n",
       "        [0., 0., 0., 0., 0., 1., 0., 0., 0., 0., 0.],\n",
       "        [0., 0., 0., 0., 0., 0., 1., 0., 0., 0., 0.],\n",
       "        [0., 0., 0., 0., 0., 0., 0., 0., 0., 0., 0.],\n",
       "        [0., 0., 0., 0., 0., 0., 0., 0., 0., 0., 0.],\n",
       "        [0., 0., 0., 0., 0., 0., 0., 0., 0., 0., 0.],\n",
       "        [0., 0., 0., 0., 0., 0., 0., 0., 0., 0., 0.]],\n",
       "\n",
       "       [[0., 1., 0., 0., 0., 0., 0., 0., 0., 0., 0.],\n",
       "        [0., 0., 0., 0., 0., 0., 0., 1., 0., 0., 0.],\n",
       "        [0., 0., 0., 0., 0., 0., 0., 0., 1., 0., 0.],\n",
       "        [0., 0., 0., 0., 0., 0., 0., 0., 0., 1., 0.],\n",
       "        [0., 0., 0., 0., 0., 0., 0., 0., 0., 0., 1.],\n",
       "        [0., 0., 0., 0., 0., 0., 0., 0., 0., 0., 0.],\n",
       "        [0., 0., 0., 0., 0., 0., 0., 0., 0., 0., 0.],\n",
       "        [0., 0., 0., 0., 0., 0., 0., 0., 0., 0., 0.],\n",
       "        [0., 0., 0., 0., 0., 0., 0., 0., 0., 0., 0.],\n",
       "        [0., 0., 0., 0., 0., 0., 0., 0., 0., 0., 0.]]])"
      ]
     },
     "execution_count": 13,
     "metadata": {},
     "output_type": "execute_result"
    }
   ],
   "source": [
    "samples = ['The cat sat on the mat.', 'The dog ate my homework.']\n",
    "token_index = generate_token_index(samples)\n",
    "print(\"Dict: \", token_index)\n",
    "\n",
    "result = generate_one_hot_encoded_dataset(samples, token_index, 10)\n",
    "'''\n",
    "result will be an n-D array of shape (b,m,m+1)\n",
    "\n",
    "b: batch dimension ; represents the number of samples\n",
    "m: max length ; represents the max length of words/tokens to be encoded (for the sample vocab, 10 is sufficient)\n",
    "m+1: the inner dimension is set to `m+1` so that 0-index is not used for token representation\n",
    "\n",
    "'''\n",
    "print(\"Result shape: \", result.shape)\n",
    "result"
   ]
  },
  {
   "cell_type": "code",
   "execution_count": 8,
   "metadata": {},
   "outputs": [
    {
     "name": "stderr",
     "output_type": "stream",
     "text": [
      "Using TensorFlow backend.\n"
     ]
    }
   ],
   "source": [
    "from keras.preprocessing.text import Tokenizer\n",
    "keras_tokenizer = Tokenizer(num_words=1000) # purpose of num_words is similar to max_len above"
   ]
  },
  {
   "cell_type": "code",
   "execution_count": 9,
   "metadata": {},
   "outputs": [
    {
     "name": "stdout",
     "output_type": "stream",
     "text": [
      "Text to Sequences:  [[1, 2, 3, 4, 1, 5], [1, 6, 7, 8, 9]]\n",
      "One hot:  [[0. 1. 1. ... 0. 0. 0.]\n",
      " [0. 1. 0. ... 0. 0. 0.]]\n"
     ]
    }
   ],
   "source": [
    "keras_tokenizer.fit_on_texts(samples) # Updates internal vocabulary based on a list of texts ; required before texts_to_sequences()\n",
    "tokens = keras_tokenizer.texts_to_sequences(samples)\n",
    "\n",
    "print(\"Text to Sequences: \", tokens)\n",
    "\n",
    "one_hot = keras_tokenizer.texts_to_matrix(samples, mode='binary') # other modes are supported!\n",
    "\n",
    "print(\"One hot: \", one_hot)"
   ]
  },
  {
   "cell_type": "code",
   "execution_count": 14,
   "metadata": {},
   "outputs": [
    {
     "name": "stdout",
     "output_type": "stream",
     "text": [
      "(2, 10, 1000)\n"
     ]
    },
    {
     "data": {
      "text/plain": [
       "array([[[0., 0., 0., ..., 0., 0., 0.],\n",
       "        [0., 0., 0., ..., 0., 0., 0.],\n",
       "        [0., 0., 0., ..., 0., 0., 0.],\n",
       "        ...,\n",
       "        [0., 0., 0., ..., 0., 0., 0.],\n",
       "        [0., 0., 0., ..., 0., 0., 0.],\n",
       "        [0., 0., 0., ..., 0., 0., 0.]],\n",
       "\n",
       "       [[0., 0., 0., ..., 0., 0., 0.],\n",
       "        [0., 0., 0., ..., 0., 0., 0.],\n",
       "        [0., 0., 0., ..., 0., 0., 0.],\n",
       "        ...,\n",
       "        [0., 0., 0., ..., 0., 0., 0.],\n",
       "        [0., 0., 0., ..., 0., 0., 0.],\n",
       "        [0., 0., 0., ..., 0., 0., 0.]]])"
      ]
     },
     "execution_count": 14,
     "metadata": {},
     "output_type": "execute_result"
    }
   ],
   "source": [
    "# Hashed one-hot\n",
    "result = generate_one_hot_encoded_dataset(samples, token_index, 10, dimensionality=1000)\n",
    "'''\n",
    "result will be an n-D array of shape (b,m,d)\n",
    "\n",
    "b: batch dimension ; represents the number of samples\n",
    "m: max length ; represents the max length of words/tokens to be encoded (for the sample vocab, 10 is sufficient)\n",
    "d: the inner dimension is set to `dimensionality` (here 1000), so that a 1000-long vector is used for token representation\n",
    "\n",
    "'''\n",
    "print(result.shape)\n",
    "result"
   ]
  }
 ],
 "metadata": {
  "kernelspec": {
   "display_name": "Python 3",
   "language": "python",
   "name": "python3"
  },
  "language_info": {
   "codemirror_mode": {
    "name": "ipython",
    "version": 3
   },
   "file_extension": ".py",
   "mimetype": "text/x-python",
   "name": "python",
   "nbconvert_exporter": "python",
   "pygments_lexer": "ipython3",
   "version": "3.6.7"
  }
 },
 "nbformat": 4,
 "nbformat_minor": 2
}
